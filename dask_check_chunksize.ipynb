{
 "cells": [
  {
   "cell_type": "markdown",
   "id": "4bbababe-ec9f-4834-995f-97b49e844bf1",
   "metadata": {},
   "source": [
    "Create local Client"
   ]
  },
  {
   "cell_type": "code",
   "execution_count": 70,
   "id": "fe2e1425-8b33-47ca-a803-081b1508992d",
   "metadata": {},
   "outputs": [
    {
     "name": "stderr",
     "output_type": "stream",
     "text": [
      "C:\\Users\\eleme\\.conda\\envs\\teamx\\Lib\\site-packages\\distributed\\node.py:187: UserWarning: Port 8787 is already in use.\n",
      "Perhaps you already have a cluster running?\n",
      "Hosting the HTTP server on port 50208 instead\n",
      "  warnings.warn(\n",
      "C:\\Users\\eleme\\.conda\\envs\\teamx\\Lib\\site-packages\\distributed\\client.py:1612: VersionMismatchWarning: Mismatched versions found\n",
      "\n",
      "+-------------+----------+-----------+----------+\n",
      "| Package     | Client   | Scheduler | Workers  |\n",
      "+-------------+----------+-----------+----------+\n",
      "| dask        | 2025.3.0 | 2025.3.0  | 2025.5.1 |\n",
      "| distributed | 2025.3.0 | 2025.3.0  | 2025.5.1 |\n",
      "+-------------+----------+-----------+----------+\n",
      "  warnings.warn(version_module.VersionMismatchWarning(msg[0][\"warning\"]))\n"
     ]
    },
    {
     "ename": "UndefinedError",
     "evalue": "'n_workers' is undefined",
     "output_type": "error",
     "traceback": [
      "\u001b[31m---------------------------------------------------------------------------\u001b[39m",
      "\u001b[31mUndefinedError\u001b[39m                            Traceback (most recent call last)",
      "\u001b[36mFile \u001b[39m\u001b[32m~\\.conda\\envs\\teamx\\Lib\\site-packages\\IPython\\core\\formatters.py:406\u001b[39m, in \u001b[36mBaseFormatter.__call__\u001b[39m\u001b[34m(self, obj)\u001b[39m\n\u001b[32m    404\u001b[39m     method = get_real_method(obj, \u001b[38;5;28mself\u001b[39m.print_method)\n\u001b[32m    405\u001b[39m     \u001b[38;5;28;01mif\u001b[39;00m method \u001b[38;5;129;01mis\u001b[39;00m \u001b[38;5;129;01mnot\u001b[39;00m \u001b[38;5;28;01mNone\u001b[39;00m:\n\u001b[32m--> \u001b[39m\u001b[32m406\u001b[39m         \u001b[38;5;28;01mreturn\u001b[39;00m \u001b[43mmethod\u001b[49m\u001b[43m(\u001b[49m\u001b[43m)\u001b[49m\n\u001b[32m    407\u001b[39m     \u001b[38;5;28;01mreturn\u001b[39;00m \u001b[38;5;28;01mNone\u001b[39;00m\n\u001b[32m    408\u001b[39m \u001b[38;5;28;01melse\u001b[39;00m:\n",
      "\u001b[36mFile \u001b[39m\u001b[32m~\\.conda\\envs\\teamx\\Lib\\site-packages\\distributed\\client.py:1410\u001b[39m, in \u001b[36m_repr_html_\u001b[39m\u001b[34m(self)\u001b[39m\n\u001b[32m   1407\u001b[39m     \u001b[38;5;28;01mreturn\u001b[39;00m \u001b[38;5;28mself\u001b[39m._started.\u001b[34m__await__\u001b[39m()\n\u001b[32m   1408\u001b[39m \u001b[38;5;28;01melse\u001b[39;00m:\n\u001b[32m-> \u001b[39m\u001b[32m1410\u001b[39m     \u001b[38;5;28;01masync\u001b[39;00m \u001b[38;5;28;01mdef\u001b[39;00m\u001b[38;5;250m \u001b[39m\u001b[34m_\u001b[39m():\n\u001b[32m   1411\u001b[39m         \u001b[38;5;28;01mreturn\u001b[39;00m \u001b[38;5;28mself\u001b[39m\n\u001b[32m   1413\u001b[39m     \u001b[38;5;28;01mreturn\u001b[39;00m _().\u001b[34m__await__\u001b[39m()\n",
      "\u001b[36mFile \u001b[39m\u001b[32m~\\.conda\\envs\\teamx\\Lib\\site-packages\\jinja2\\environment.py:1295\u001b[39m, in \u001b[36mTemplate.render\u001b[39m\u001b[34m(self, *args, **kwargs)\u001b[39m\n\u001b[32m   1293\u001b[39m     \u001b[38;5;28;01mreturn\u001b[39;00m \u001b[38;5;28mself\u001b[39m.environment.concat(\u001b[38;5;28mself\u001b[39m.root_render_func(ctx))  \u001b[38;5;66;03m# type: ignore\u001b[39;00m\n\u001b[32m   1294\u001b[39m \u001b[38;5;28;01mexcept\u001b[39;00m \u001b[38;5;167;01mException\u001b[39;00m:\n\u001b[32m-> \u001b[39m\u001b[32m1295\u001b[39m     \u001b[38;5;28;43mself\u001b[39;49m\u001b[43m.\u001b[49m\u001b[43menvironment\u001b[49m\u001b[43m.\u001b[49m\u001b[43mhandle_exception\u001b[49m\u001b[43m(\u001b[49m\u001b[43m)\u001b[49m\n",
      "\u001b[36mFile \u001b[39m\u001b[32m~\\.conda\\envs\\teamx\\Lib\\site-packages\\jinja2\\environment.py:942\u001b[39m, in \u001b[36mEnvironment.handle_exception\u001b[39m\u001b[34m(self, source)\u001b[39m\n\u001b[32m    937\u001b[39m \u001b[38;5;250m\u001b[39m\u001b[33;03m\"\"\"Exception handling helper.  This is used internally to either raise\u001b[39;00m\n\u001b[32m    938\u001b[39m \u001b[33;03mrewritten exceptions or return a rendered traceback for the template.\u001b[39;00m\n\u001b[32m    939\u001b[39m \u001b[33;03m\"\"\"\u001b[39;00m\n\u001b[32m    940\u001b[39m \u001b[38;5;28;01mfrom\u001b[39;00m\u001b[38;5;250m \u001b[39m\u001b[34;01m.\u001b[39;00m\u001b[34;01mdebug\u001b[39;00m\u001b[38;5;250m \u001b[39m\u001b[38;5;28;01mimport\u001b[39;00m rewrite_traceback_stack\n\u001b[32m--> \u001b[39m\u001b[32m942\u001b[39m \u001b[38;5;28;01mraise\u001b[39;00m rewrite_traceback_stack(source=source)\n",
      "\u001b[36mFile \u001b[39m\u001b[32m~\\.conda\\envs\\teamx\\Lib\\site-packages\\distributed\\widgets\\templates\\client.html.j2:43\u001b[39m, in \u001b[36mtop-level template code\u001b[39m\u001b[34m()\u001b[39m\n\u001b[32m     41\u001b[39m     <details>\n\u001b[32m     42\u001b[39m     <summary style=\"margin-bottom: 20px;\"><h3 style=\"display: inline;\">Cluster Info</h3></summary>\n\u001b[32m---> \u001b[39m\u001b[32m43\u001b[39m     {{ cluster._repr_html_() }}\n\u001b[32m     44\u001b[39m     </details>\n\u001b[32m     45\u001b[39m {% else %}\n",
      "\u001b[36mFile \u001b[39m\u001b[32m~\\.conda\\envs\\teamx\\Lib\\site-packages\\distributed\\deploy\\local.py:280\u001b[39m, in \u001b[36mLocalCluster._repr_html_\u001b[39m\u001b[34m(self, cluster_status)\u001b[39m\n\u001b[32m    274\u001b[39m \u001b[38;5;28;01mdef\u001b[39;00m\u001b[38;5;250m \u001b[39m\u001b[34m_repr_html_\u001b[39m(\u001b[38;5;28mself\u001b[39m, cluster_status=\u001b[38;5;28;01mNone\u001b[39;00m):\n\u001b[32m    275\u001b[39m     cluster_status = get_template(\u001b[33m\"\u001b[39m\u001b[33mlocal_cluster.html.j2\u001b[39m\u001b[33m\"\u001b[39m).render(\n\u001b[32m    276\u001b[39m         status=\u001b[38;5;28mself\u001b[39m.status.name,\n\u001b[32m    277\u001b[39m         processes=\u001b[38;5;28mself\u001b[39m.processes,\n\u001b[32m    278\u001b[39m         cluster_status=cluster_status,\n\u001b[32m    279\u001b[39m     )\n\u001b[32m--> \u001b[39m\u001b[32m280\u001b[39m     \u001b[38;5;28;01mreturn\u001b[39;00m \u001b[38;5;28;43msuper\u001b[39;49m\u001b[43m(\u001b[49m\u001b[43m)\u001b[49m\u001b[43m.\u001b[49m\u001b[43m_repr_html_\u001b[49m\u001b[43m(\u001b[49m\u001b[43mcluster_status\u001b[49m\u001b[43m=\u001b[49m\u001b[43mcluster_status\u001b[49m\u001b[43m)\u001b[49m\n",
      "\u001b[36mFile \u001b[39m\u001b[32m~\\.conda\\envs\\teamx\\Lib\\site-packages\\distributed\\deploy\\cluster.py:491\u001b[39m, in \u001b[36mCluster._repr_html_\u001b[39m\u001b[34m(self, cluster_status)\u001b[39m\n\u001b[32m    489\u001b[39m \u001b[38;5;28;01mdef\u001b[39;00m\u001b[38;5;250m \u001b[39m\u001b[34m_repr_html_\u001b[39m(\u001b[38;5;28mself\u001b[39m, cluster_status=\u001b[38;5;28;01mNone\u001b[39;00m):\n\u001b[32m    490\u001b[39m     \u001b[38;5;28;01mtry\u001b[39;00m:\n\u001b[32m--> \u001b[39m\u001b[32m491\u001b[39m         scheduler_info_repr = \u001b[38;5;28;43mself\u001b[39;49m\u001b[43m.\u001b[49m\u001b[43mscheduler_info\u001b[49m\u001b[43m.\u001b[49m\u001b[43m_repr_html_\u001b[49m\u001b[43m(\u001b[49m\u001b[43m)\u001b[49m\n\u001b[32m    492\u001b[39m     \u001b[38;5;28;01mexcept\u001b[39;00m \u001b[38;5;167;01mAttributeError\u001b[39;00m:\n\u001b[32m    493\u001b[39m         scheduler_info_repr = \u001b[33m\"\u001b[39m\u001b[33mScheduler not started yet.\u001b[39m\u001b[33m\"\u001b[39m\n",
      "\u001b[36mFile \u001b[39m\u001b[32m~\\.conda\\envs\\teamx\\Lib\\site-packages\\distributed\\objects.py:44\u001b[39m, in \u001b[36mSchedulerInfo._repr_html_\u001b[39m\u001b[34m(self)\u001b[39m\n\u001b[32m     42\u001b[39m environment = get_environment()\n\u001b[32m     43\u001b[39m environment.filters[\u001b[33m\"\u001b[39m\u001b[33mformat_dashboard_address\u001b[39m\u001b[33m\"\u001b[39m] = _format_dashboard_address\n\u001b[32m---> \u001b[39m\u001b[32m44\u001b[39m \u001b[38;5;28;01mreturn\u001b[39;00m \u001b[43menvironment\u001b[49m\u001b[43m.\u001b[49m\u001b[43mget_template\u001b[49m\u001b[43m(\u001b[49m\u001b[33;43m\"\u001b[39;49m\u001b[33;43mscheduler_info.html.j2\u001b[39;49m\u001b[33;43m\"\u001b[39;49m\u001b[43m)\u001b[49m\u001b[43m.\u001b[49m\u001b[43mrender\u001b[49m\u001b[43m(\u001b[49m\n\u001b[32m     45\u001b[39m \u001b[43m    \u001b[49m\u001b[43mscheduler\u001b[49m\u001b[43m=\u001b[49m\u001b[38;5;28;43mself\u001b[39;49m\u001b[43m,\u001b[49m\n\u001b[32m     46\u001b[39m \u001b[43m    \u001b[49m\u001b[43m*\u001b[49m\u001b[43m*\u001b[49m\u001b[38;5;28;43mself\u001b[39;49m\u001b[43m,\u001b[49m\n\u001b[32m     47\u001b[39m \u001b[43m\u001b[49m\u001b[43m)\u001b[49m\n",
      "\u001b[36mFile \u001b[39m\u001b[32m~\\.conda\\envs\\teamx\\Lib\\site-packages\\jinja2\\environment.py:1295\u001b[39m, in \u001b[36mTemplate.render\u001b[39m\u001b[34m(self, *args, **kwargs)\u001b[39m\n\u001b[32m   1293\u001b[39m     \u001b[38;5;28;01mreturn\u001b[39;00m \u001b[38;5;28mself\u001b[39m.environment.concat(\u001b[38;5;28mself\u001b[39m.root_render_func(ctx))  \u001b[38;5;66;03m# type: ignore\u001b[39;00m\n\u001b[32m   1294\u001b[39m \u001b[38;5;28;01mexcept\u001b[39;00m \u001b[38;5;167;01mException\u001b[39;00m:\n\u001b[32m-> \u001b[39m\u001b[32m1295\u001b[39m     \u001b[38;5;28;43mself\u001b[39;49m\u001b[43m.\u001b[49m\u001b[43menvironment\u001b[49m\u001b[43m.\u001b[49m\u001b[43mhandle_exception\u001b[49m\u001b[43m(\u001b[49m\u001b[43m)\u001b[49m\n",
      "\u001b[36mFile \u001b[39m\u001b[32m~\\.conda\\envs\\teamx\\Lib\\site-packages\\jinja2\\environment.py:942\u001b[39m, in \u001b[36mEnvironment.handle_exception\u001b[39m\u001b[34m(self, source)\u001b[39m\n\u001b[32m    937\u001b[39m \u001b[38;5;250m\u001b[39m\u001b[33;03m\"\"\"Exception handling helper.  This is used internally to either raise\u001b[39;00m\n\u001b[32m    938\u001b[39m \u001b[33;03mrewritten exceptions or return a rendered traceback for the template.\u001b[39;00m\n\u001b[32m    939\u001b[39m \u001b[33;03m\"\"\"\u001b[39;00m\n\u001b[32m    940\u001b[39m \u001b[38;5;28;01mfrom\u001b[39;00m\u001b[38;5;250m \u001b[39m\u001b[34;01m.\u001b[39;00m\u001b[34;01mdebug\u001b[39;00m\u001b[38;5;250m \u001b[39m\u001b[38;5;28;01mimport\u001b[39;00m rewrite_traceback_stack\n\u001b[32m--> \u001b[39m\u001b[32m942\u001b[39m \u001b[38;5;28;01mraise\u001b[39;00m rewrite_traceback_stack(source=source)\n",
      "\u001b[36mFile \u001b[39m\u001b[32m~\\.conda\\envs\\teamx\\Lib\\site-packages\\distributed\\widgets\\templates\\scheduler_info.html.j2:13\u001b[39m, in \u001b[36mtop-level template code\u001b[39m\u001b[34m()\u001b[39m\n\u001b[32m     11\u001b[39m     </td>\n\u001b[32m     12\u001b[39m     <td style=\"text-align: left;\">\n\u001b[32m---> \u001b[39m\u001b[32m13\u001b[39m         <strong>Workers:</strong> {{ n_workers }} {% if n_workers > workers | length %} (shown below: {{ workers | length }}) {% endif %}\n\u001b[32m     14\u001b[39m     </td>\n\u001b[32m     15\u001b[39m </tr>\n",
      "\u001b[31mUndefinedError\u001b[39m: 'n_workers' is undefined"
     ]
    },
    {
     "data": {
      "text/plain": [
       "<Client: 'tcp://127.0.0.1:50211' processes=4 threads=8, memory=7.89 GiB>"
      ]
     },
     "execution_count": 70,
     "metadata": {},
     "output_type": "execute_result"
    }
   ],
   "source": [
    "from dask.distributed import Client\n",
    "client = Client()\n",
    "client\n"
   ]
  },
  {
   "cell_type": "code",
   "execution_count": 71,
   "id": "10f31a13-87f8-40c1-af8c-24ed53c4fbc4",
   "metadata": {},
   "outputs": [],
   "source": [
    "client = Client('127.0.0.1:50211')"
   ]
  },
  {
   "cell_type": "code",
   "execution_count": 72,
   "id": "953a9fba-0488-4fc9-bb67-cb5cba7973b5",
   "metadata": {},
   "outputs": [],
   "source": [
    "import sys\n",
    "from operator import concat\n",
    "\n",
    "from xarray import decode_cf\n",
    "\n",
    "sys.path.append(\"D:/MSc_Arbeit/model_comparison_codes\")\n",
    "import confg\n",
    "import xarray as xr\n",
    "import numpy as np\n",
    "from functools import partial\n",
    "import metpy.calc as mpcalc\n",
    "from metpy.units import units\n",
    "import datetime\n",
    "from pathlib import Path"
   ]
  },
  {
   "cell_type": "code",
   "execution_count": 73,
   "id": "0caad7ab-d9a3-4354-9dad-6e2c13ae6198",
   "metadata": {},
   "outputs": [],
   "source": [
    "lat_ibk = 47.259998\n",
    "lon_ibk = 11.384167"
   ]
  },
  {
   "cell_type": "markdown",
   "id": "9b15bbc3-aba0-479a-a1b6-df58e54bdfa1",
   "metadata": {},
   "source": [
    "%%time\n",
    "icon_10 = xr.open_dataset(confg.icon_folder_3D + \"/ICON_20171015_latlon.nc\")\n",
    "# \n",
    "# icon_point = icon_point.compute()"
   ]
  },
  {
   "cell_type": "code",
   "execution_count": 80,
   "id": "3afe6606-d29d-4f0b-98cf-e89b1dadc244",
   "metadata": {},
   "outputs": [
    {
     "name": "stdout",
     "output_type": "stream",
     "text": [
      "CPU times: total: 62.5 ms\n",
      "Wall time: 74.6 ms\n"
     ]
    }
   ],
   "source": [
    "%%time\n",
    "icon_100 = xr.open_dataset(confg.icon_folder_3D + \"/ICON_20171015_latlon.nc\", \n",
    "                            chunks={'lat': 10, 'lon': 10})"
   ]
  },
  {
   "cell_type": "code",
   "execution_count": 75,
   "id": "74baf845-4003-46d5-a97a-6de2b416faf6",
   "metadata": {},
   "outputs": [
    {
     "name": "stdout",
     "output_type": "stream",
     "text": [
      "CPU times: total: 31.2 ms\n",
      "Wall time: 101 ms\n"
     ]
    }
   ],
   "source": [
    "%%time\n",
    "icon_point = icon_10.sel(lat=lat_ibk, lon=lon_ibk, method=\"nearest\")"
   ]
  },
  {
   "cell_type": "code",
   "execution_count": 81,
   "id": "da849d14-c6e9-4d27-969f-990367c5d2f7",
   "metadata": {},
   "outputs": [
    {
     "name": "stdout",
     "output_type": "stream",
     "text": [
      "CPU times: total: 15.6 ms\n",
      "Wall time: 25.6 ms\n"
     ]
    }
   ],
   "source": [
    "%%time\n",
    "icon_point = icon_100.sel(lat=lat_ibk, lon=lon_ibk, method=\"nearest\")"
   ]
  },
  {
   "cell_type": "code",
   "execution_count": 82,
   "id": "8599bcfd-992e-4bec-b4d9-21ecf381f9c3",
   "metadata": {},
   "outputs": [],
   "source": [
    "def convert_calc_variables(ds):\n",
    "    \"\"\"\n",
    "    Converts and calculates meteorological variables for a xarray Dataset.\n",
    "\n",
    "    Parameters:\n",
    "    - df: A xarray Dataset containing the columns 'p' for pressure in Pa\n",
    "          and 'th' for potential temperature in Kelvin.\n",
    "\n",
    "    Returns:\n",
    "    - A xarray Dataset with the original data and new columns:\n",
    "      'pressure' in hPa and 'temperature' in degrees Celsius.\n",
    "    \"\"\"\n",
    "\n",
    "    # Convert pressure from Pa to hPa\n",
    "    ds['pressure'] = (ds['pres'] / 100.0) * units.hPa\n",
    "\n",
    "    # calc pot temp\n",
    "    ds[\"th\"] = mpcalc.potential_temperature(ds['pressure'], ds[\"temp\"] * units.kelvin)\n",
    "\n",
    "    # convert temp to °C\n",
    "    ds[\"temp\"]  = (ds[\"temp\"] - 273.15) * units.degC\n",
    "\n",
    "    return ds.metpy.dequantify()  # remove units from the dataset"
   ]
  },
  {
   "cell_type": "code",
   "execution_count": 83,
   "id": "ae0d3991-f648-4a61-bd26-6bc5f1fc6495",
   "metadata": {},
   "outputs": [
    {
     "name": "stdout",
     "output_type": "stream",
     "text": [
      "CPU times: total: 46.9 ms\n",
      "Wall time: 199 ms\n"
     ]
    }
   ],
   "source": [
    "%%time\n",
    "icon_calc = convert_calc_variables(icon_point)"
   ]
  },
  {
   "cell_type": "code",
   "execution_count": 84,
   "id": "89f5b6dc-d5ca-4e39-a13b-ed8647548239",
   "metadata": {},
   "outputs": [
    {
     "name": "stdout",
     "output_type": "stream",
     "text": [
      "CPU times: total: 2min 14s\n",
      "Wall time: 9min 1s\n"
     ]
    }
   ],
   "source": [
    "%%time\n",
    "icon_point_100 = icon_calc.compute()  # takes insanely long! >300s!"
   ]
  },
  {
   "cell_type": "code",
   "execution_count": 18,
   "id": "6ea021d3-e514-4607-89ac-626e9eacc169",
   "metadata": {},
   "outputs": [
    {
     "name": "stdout",
     "output_type": "stream",
     "text": [
      "CPU times: total: 141 ms\n",
      "Wall time: 270 ms\n"
     ]
    },
    {
     "data": {
      "text/html": [
       "<table>\n",
       "    <tr>\n",
       "        <td>\n",
       "            <table style=\"border-collapse: collapse;\">\n",
       "                <thead>\n",
       "                    <tr>\n",
       "                        <td> </td>\n",
       "                        <th> Array </th>\n",
       "                        <th> Chunk </th>\n",
       "                    </tr>\n",
       "                </thead>\n",
       "                <tbody>\n",
       "                    \n",
       "                    <tr>\n",
       "                        <th> Bytes </th>\n",
       "                        <td> 78.12 kiB </td>\n",
       "                        <td> 7.81 kiB </td>\n",
       "                    </tr>\n",
       "                    \n",
       "                    <tr>\n",
       "                        <th> Shape </th>\n",
       "                        <td> (10000,) </td>\n",
       "                        <td> (1000,) </td>\n",
       "                    </tr>\n",
       "                    <tr>\n",
       "                        <th> Dask graph </th>\n",
       "                        <td colspan=\"2\"> 10 chunks in 1 graph layer </td>\n",
       "                    </tr>\n",
       "                    <tr>\n",
       "                        <th> Data type </th>\n",
       "                        <td colspan=\"2\"> float64 numpy.ndarray </td>\n",
       "                    </tr>\n",
       "                </tbody>\n",
       "            </table>\n",
       "        </td>\n",
       "        <td>\n",
       "        <svg width=\"170\" height=\"75\" style=\"stroke:rgb(0,0,0);stroke-width:1\" >\n",
       "\n",
       "  <!-- Horizontal lines -->\n",
       "  <line x1=\"0\" y1=\"0\" x2=\"120\" y2=\"0\" style=\"stroke-width:2\" />\n",
       "  <line x1=\"0\" y1=\"25\" x2=\"120\" y2=\"25\" style=\"stroke-width:2\" />\n",
       "\n",
       "  <!-- Vertical lines -->\n",
       "  <line x1=\"0\" y1=\"0\" x2=\"0\" y2=\"25\" style=\"stroke-width:2\" />\n",
       "  <line x1=\"12\" y1=\"0\" x2=\"12\" y2=\"25\" />\n",
       "  <line x1=\"24\" y1=\"0\" x2=\"24\" y2=\"25\" />\n",
       "  <line x1=\"36\" y1=\"0\" x2=\"36\" y2=\"25\" />\n",
       "  <line x1=\"48\" y1=\"0\" x2=\"48\" y2=\"25\" />\n",
       "  <line x1=\"60\" y1=\"0\" x2=\"60\" y2=\"25\" />\n",
       "  <line x1=\"72\" y1=\"0\" x2=\"72\" y2=\"25\" />\n",
       "  <line x1=\"84\" y1=\"0\" x2=\"84\" y2=\"25\" />\n",
       "  <line x1=\"96\" y1=\"0\" x2=\"96\" y2=\"25\" />\n",
       "  <line x1=\"108\" y1=\"0\" x2=\"108\" y2=\"25\" />\n",
       "  <line x1=\"120\" y1=\"0\" x2=\"120\" y2=\"25\" style=\"stroke-width:2\" />\n",
       "\n",
       "  <!-- Colored Rectangle -->\n",
       "  <polygon points=\"0.0,0.0 120.0,0.0 120.0,25.412616514582485 0.0,25.412616514582485\" style=\"fill:#ECB172A0;stroke-width:0\"/>\n",
       "\n",
       "  <!-- Text -->\n",
       "  <text x=\"60.000000\" y=\"45.412617\" font-size=\"1.0rem\" font-weight=\"100\" text-anchor=\"middle\" >10000</text>\n",
       "  <text x=\"140.000000\" y=\"12.706308\" font-size=\"1.0rem\" font-weight=\"100\" text-anchor=\"middle\" transform=\"rotate(0,140.000000,12.706308)\">1</text>\n",
       "</svg>\n",
       "        </td>\n",
       "    </tr>\n",
       "</table>"
      ],
      "text/plain": [
       "dask.array<sum-aggregate, shape=(10000,), dtype=float64, chunksize=(1000,), chunktype=numpy.ndarray>"
      ]
     },
     "execution_count": 18,
     "metadata": {},
     "output_type": "execute_result"
    }
   ],
   "source": [
    "\n",
    "%%time\n",
    "import dask.array as da\n",
    "x = da.random.random((10000, 10000, 10), chunks=(1000, 1000, 5))\n",
    "y = da.random.random((10000, 10000, 10), chunks=(1000, 1000, 5))\n",
    "z = (da.arcsin(x) + da.arccos(y)).sum(axis=(1, 2))\n",
    "z.persist()\n",
    "\n"
   ]
  },
  {
   "cell_type": "code",
   "execution_count": null,
   "id": "f4ff72f0-355d-4456-bab7-3373dd48995f",
   "metadata": {},
   "outputs": [],
   "source": []
  }
 ],
 "metadata": {
  "kernelspec": {
   "display_name": "Python 3 (ipykernel)",
   "language": "python",
   "name": "python3"
  },
  "language_info": {
   "codemirror_mode": {
    "name": "ipython",
    "version": 3
   },
   "file_extension": ".py",
   "mimetype": "text/x-python",
   "name": "python",
   "nbconvert_exporter": "python",
   "pygments_lexer": "ipython3",
   "version": "3.11.11"
  }
 },
 "nbformat": 4,
 "nbformat_minor": 5
}
