{
 "cells": [
  {
   "cell_type": "code",
   "execution_count": 1,
   "id": "e355f47e",
   "metadata": {},
   "outputs": [],
   "source": [
    "# TODO\n",
    "%run ../confg"
   ]
  },
  {
   "cell_type": "code",
   "execution_count": 2,
   "id": "1188876e",
   "metadata": {},
   "outputs": [],
   "source": [
    "import pandas as pd\n",
    "import xarray as xr\n",
    "from metpy.units import units\n",
    "import matplotlib.pyplot as plt\n",
    "import numpy as np"
   ]
  },
  {
   "cell_type": "code",
   "execution_count": 2,
   "id": "f39206b4",
   "metadata": {},
   "outputs": [],
   "source": [
    "def __read_hatpro_intern(filepath):\n",
    "    \"\"\"internally used function to read in hatpro Temperature or Humidity depending on the filepath (height in meter)\"\"\"\n",
    "    height_int = [int(height) for height in hatpro_vertical_levels[\"height\"]]\n",
    "\n",
    "    # Read in the DataFrame from the CSV file\n",
    "    df = pd.read_csv(filepath,\n",
    "                     sep=\";\")\n",
    "\n",
    "    # Convert the 'rawdate' column to datetime if it's not already\n",
    "    df['rawdate'] = pd.to_datetime(df['rawdate'])\n",
    "\n",
    "    # Set the 'rawdate' column as the index\n",
    "    df.set_index('rawdate', inplace=True)\n",
    "\n",
    "    # Rename the columns to v01, v02, ..., v39\n",
    "    df.columns = [f\"v{i:02d}\" for i in range(1, 40)]\n",
    "\n",
    "    # Create a new index that includes 'rawdate' and 'v1' to 'v39'\n",
    "    new_index = pd.MultiIndex.from_product([df.index, df.columns], names=['rawdate', 'height_level'])\n",
    "\n",
    "    # Create a new DataFrame with the new index\n",
    "    if \"temp\" in filepath:\n",
    "        df_new = pd.DataFrame(index=new_index, data=df.values.flatten(), columns=['T'])\n",
    "    elif \"humidity\" in filepath:\n",
    "        df_new = pd.DataFrame(index=new_index, data=df.values.flatten(), columns=['humidity'])\n",
    "\n",
    "    # Convert the DataFrame to an xarray dataset\n",
    "    dataset = xr.Dataset.from_dataframe(df_new)\n",
    "\n",
    "    # Assign the 'height_level' coordinate\n",
    "    dataset[\"height_level\"] = height_int\n",
    "    if \"T\" in list(dataset.keys()):\n",
    "        # Set the units attribute for temperature variable 'T'\n",
    "        dataset[\"T\"].attrs['units'] = \"K\"\n",
    "\n",
    "        dataset[\"T\"].values = dataset[\"T\"].values * units.kelvin\n",
    "        dataset[\"T\"] = dataset[\"T\"].metpy.convert_units(\"degC\")\n",
    "    elif \"humidity\" in list(dataset.keys()):\n",
    "        dataset[\"humidity\"].attrs['units'] = \"g/m^3\"  # absolute humidity\n",
    "        dataset['humidity'] = dataset['humidity'].metpy.convert_units(\"g/m^3\")\n",
    "\n",
    "        print(dataset[\"humidity\"])\n",
    "    return dataset"
   ]
  },
  {
   "cell_type": "code",
   "execution_count": 3,
   "id": "ee76c040",
   "metadata": {},
   "outputs": [],
   "source": [
    "def read_hatpro_extern():\n",
    "    \"\"\"read hatpro function can be called from externally\"\"\"\n",
    "    dataset1 = __read_hatpro_intern(\n",
    "        filepath=f\"{hatpro_folder}/data_HATPRO_temp.csv\")\n",
    "    dataset2 = __read_hatpro_intern(\n",
    "        filepath=f\"{hatpro_folder}/data_HATPRO_humidity.csv\")\n",
    "    merged_dataset = xr.merge([dataset1, dataset2])\n",
    "    return merged_dataset"
   ]
  },
  {
   "cell_type": "code",
   "execution_count": 4,
   "id": "54aa07d6",
   "metadata": {},
   "outputs": [],
   "source": [
    "\n",
    "# f = read_hatpro_extern()  # Read in the dataset\n",
    "# df_hatpro_z = df.sel(height_level=slice(None, 7000))  # Select only data under 7000 m\n",
    "\n",
    "# df_hatpro_z[\"height_level\"] = df_hatpro_z[\n",
    "#                                   \"height_level\"] + 612  # add 612 meter where the microwave radiometer is placed\n",
    "\n",
    "# interp_func = interp1d(df_arome_model['z'].values, df_arome_model['p'].values, kind='linear', bounds_error=False,\n",
    "#                        fill_value='extrapolate')\n",
    "\n",
    "# # Interpolate pressure values onto height values of df_hatpro_z\n",
    "# interpolated_p = interp_func(df_hatpro_z['height_level'])\n",
    "\n",
    "# # Assign the interpolated pressure values to df_hatpro_z as a new DataArray\n",
    "# df_hatpro_z['p_pascal'] = xr.DataArray(interpolated_p,\n",
    "#                                        dims='height_level')  # create a new Dataarray and assign it to the Dataset\n",
    "\n",
    "# hpa = df_hatpro_z[\"p_pascal\"].values\n",
    "# kgm3 = df_hatpro_z[\"humidity\"].values / 1000\n",
    "# t_k = df_hatpro_z[\"T\"].values + 273.15\n"
   ]
  },
  {
   "cell_type": "code",
   "execution_count": 5,
   "id": "59acb018",
   "metadata": {},
   "outputs": [],
   "source": [
    "#hatpro_time = hatpro_all.rawdate[300]"
   ]
  },
  {
   "cell_type": "code",
   "execution_count": 6,
   "id": "4b747843",
   "metadata": {},
   "outputs": [],
   "source": [
    "#plt.plot(read_hatpro_extern().T)\n"
   ]
  },
  {
   "cell_type": "code",
   "execution_count": null,
   "id": "8a7b467e",
   "metadata": {},
   "outputs": [],
   "source": []
  }
 ],
 "metadata": {
  "kernelspec": {
   "display_name": "Python 3 (ipykernel)",
   "language": "python",
   "name": "python3"
  },
  "language_info": {
   "codemirror_mode": {
    "name": "ipython",
    "version": 3
   },
   "file_extension": ".py",
   "mimetype": "text/x-python",
   "name": "python",
   "nbconvert_exporter": "python",
   "pygments_lexer": "ipython3",
   "version": "3.11.11"
  }
 },
 "nbformat": 4,
 "nbformat_minor": 5
}
