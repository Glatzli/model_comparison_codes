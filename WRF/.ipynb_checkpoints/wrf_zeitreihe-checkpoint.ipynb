{
 "cells": [
  {
   "cell_type": "code",
   "execution_count": null,
   "id": "664e297d",
   "metadata": {},
   "outputs": [],
   "source": [
    "%run ../WRF/read_wrf_helen.ipynb\n",
    "%run ../confg"
   ]
  },
  {
   "cell_type": "code",
   "execution_count": 1,
   "id": "52b647d7",
   "metadata": {},
   "outputs": [],
   "source": [
    "%%capture\n",
    "\"\"\"Compare different models (ICON, AROME, UKMO, WRF_ACINN) with radiosonde, in one plot with pressure as y-variable\"\"\"\n",
    "import warnings\n",
    "\n",
    "import xarray as xr\n",
    "\n",
    "import metpy\n",
    "import metpy.calc as mpcalc\n",
    "import numpy as np\n",
    "import pandas as pd\n",
    "import wrf\n",
    "from matplotlib import pyplot as plt\n",
    "from metpy.plots import SkewT\n",
    "from metpy.units import units\n",
    "from netCDF4 import Dataset\n",
    "from datetime import timedelta\n",
    "\n",
    "warnings.filterwarnings(\"ignore\")"
   ]
  },
  {
   "cell_type": "code",
   "execution_count": 3,
   "id": "3303f5cf",
   "metadata": {},
   "outputs": [],
   "source": [
    "def read_radiosonde_wrf_acinn():\n",
    "    # Initialize an empty list to collect data\n",
    "    all_data = []\n",
    "    \n",
    "    # Initialize a list to collect time values (timestamps)\n",
    "    times = []\n",
    "\n",
    "    # Loop through each day (15 and 16)\n",
    "    for day in [15, 16]:\n",
    "        # Define the hour range depending on the day\n",
    "        if day == 15:\n",
    "            # For day 15, loop from 12:00 to 24:00 (exclusive, i.e., 12-23)\n",
    "            hour_range = range(12, 24)\n",
    "        elif day == 16:\n",
    "            # For day 16, loop from 00:00 to 12:00 (exclusive, i.e., 00-11)\n",
    "            hour_range = range(0, 12)\n",
    "\n",
    "        # Loop through each hour and half-hour within the range\n",
    "        for hour in hour_range:  # Hour range: 12-24 for day 15, 00-12 for day 16\n",
    "            for minute in [0, 30]:  # Minute increments: 0 and 30 (half-hour intervals)\n",
    "                # Create a timestamp for this specific day, hour, and minute\n",
    "                timestamp = pd.Timestamp(f\"2017-10-{day:02d} {hour:02d}:{minute:02d}:00\")\n",
    "                \n",
    "                # Read data for each fixed point and time\n",
    "                df_acinn15 = read_wrf_fixed_point_and_time(\n",
    "                    day=day,\n",
    "                    hour=hour,\n",
    "                    minute=minute,\n",
    "                    latitude=station_files_zamg[\"LOWI\"][\"lat\"],\n",
    "                    longitude=station_files_zamg[\"LOWI\"][\"lon\"]\n",
    "                )\n",
    "\n",
    "                # Add the timestamp to the 'times' list (for the current data entry)\n",
    "                times.append(timestamp)\n",
    "\n",
    "                # Collect the data\n",
    "                all_data.append(df_acinn15)\n",
    "\n",
    "    # Concatenate all data along the \"time\" dimension\n",
    "    df_acinn = xr.concat(all_data, dim=\"time\")\n",
    "\n",
    "    # Now that we've concatenated all the data, we can assign the correct time coordinates\n",
    "    # Ensure that the number of timestamps in 'times' matches the 'time' dimension in df_acinn\n",
    "    if len(times) == len(df_acinn.time):\n",
    "        df_acinn.coords[\"time\"] = (\"time\", times)\n",
    "    else:\n",
    "        raise ValueError(f\"Mismatch in time length: {len(times)} timestamps, but {len(df_acinn.time)} time steps.\")\n",
    "\n",
    "    # Return the accumulated xarray dataset\n",
    "    return df_acinn\n"
   ]
  },
  {
   "cell_type": "code",
   "execution_count": 4,
   "id": "bcac6a4c",
   "metadata": {},
   "outputs": [],
   "source": [
    "wrf = read_radiosonde_wrf_acinn()"
   ]
  },
  {
   "cell_type": "code",
   "execution_count": 6,
   "id": "22f21abe",
   "metadata": {},
   "outputs": [
    {
     "data": {
      "text/plain": [
       "48"
      ]
     },
     "execution_count": 6,
     "metadata": {},
     "output_type": "execute_result"
    }
   ],
   "source": [
    "temp_wrf = np.zeros(len(wrf.temperature))\n",
    "for i in range(len(wrf.temperature)):\n",
    "    temp_wrf[i] = (wrf.temperature[i][0].values)\n",
    "temp_wrf.size"
   ]
  },
  {
   "cell_type": "code",
   "execution_count": 7,
   "id": "8975ce61",
   "metadata": {},
   "outputs": [
    {
     "data": {
      "image/png": "[encoded data removed]",
      "text/plain": [
       "<Figure size 640x480 with 1 Axes>"
      ]
     },
     "metadata": {},
     "output_type": "display_data"
    }
   ],
   "source": [
    "plt.plot(wrf.time, temp_wrf);"
   ]
  },
  {
   "cell_type": "code",
   "execution_count": null,
   "id": "21eff851",
   "metadata": {},
   "outputs": [],
   "source": []
  }
 ],
 "metadata": {
  "kernelspec": {
   "display_name": "Python 3 (ipykernel)",
   "language": "python",
   "name": "python3"
  },
  "language_info": {
   "codemirror_mode": {
    "name": "ipython",
    "version": 3
   },
   "file_extension": ".py",
   "mimetype": "text/x-python",
   "name": "python",
   "nbconvert_exporter": "python",
   "pygments_lexer": "ipython3",
   "version": "3.11.11"
  }
 },
 "nbformat": 4,
 "nbformat_minor": 5
}
