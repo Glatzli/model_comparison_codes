{
 "cells": [
  {
   "cell_type": "code",
   "execution_count": null,
   "id": "2614c418",
   "metadata": {},
   "outputs": [],
   "source": [
    "# TODO\n",
    "%run D:\\codes\\confg"
   ]
  },
  {
   "cell_type": "code",
   "execution_count": 1,
   "id": "b2ebd00f-7c1a-4ff5-a77b-091d06a8b50b",
   "metadata": {},
   "outputs": [
    {
     "name": "stderr",
     "output_type": "stream",
     "text": [
      "C:\\Users\\cosma\\anaconda3\\envs\\myenv\\lib\\site-packages\\pandas\\core\\computation\\expressions.py:21: UserWarning: Pandas requires version '2.8.4' or newer of 'numexpr' (version '2.8.3' currently installed).\n",
      "  from pandas.core.computation.check import NUMEXPR_INSTALLED\n",
      "C:\\Users\\cosma\\anaconda3\\envs\\myenv\\lib\\site-packages\\pandas\\core\\arrays\\masked.py:60: UserWarning: Pandas requires version '1.3.6' or newer of 'bottleneck' (version '1.3.5' currently installed).\n",
      "  from pandas.core import (\n"
     ]
    }
   ],
   "source": [
    "\"\"\"Arome Model read-in Functions\n",
    "Main functions:\n",
    "    - read_2D_variables_AROME()  # cheated temperature to 0.5m during night\n",
    "    - read_3D_variables_AROME() # all heights\n",
    "    - read_timeSeries_AROME() # interpolated to 2m\n",
    "\n",
    "\"\"\"\n",
    "import glob\n",
    "import os\n",
    "\n",
    "import pandas as pd\n",
    "import xarray as xr\n",
    "import numpy as np\n",
    "import sys\n",
    "np.set_printoptions(threshold=sys.maxsize)"
   ]
  },
  {
   "cell_type": "code",
   "execution_count": 2,
   "id": "e0175baf-77c8-4dbb-bfe8-aa31bbc1eebb",
   "metadata": {},
   "outputs": [],
   "source": [
    "def read_2D_variables_AROME(variableList, lon, lat, slice_lat_lon=False):\n",
    "    \"\"\" WITH the sel Method\n",
    "    Read all the 2D variables (single netcdf per variable) and merge them\n",
    "\n",
    "    :param variableList: List of the selected variables\n",
    "    :param lon: Longitude of the MOMAA station\n",
    "    :param lat: Latitude of the MOMAA station\n",
    "    :param slice_lat_lon: Method for selecting latitude and longitude ('nearest' for nearest neighbor, None for exact match)\n",
    "    :return: Merged DataFrame with all the variables\n",
    "    \"\"\"\n",
    "    datasets = []  # List to hold the interpolated datasets for each variable\n",
    "\n",
    "    for variable in variableList:\n",
    "        file_path = os.path.join(dir_2D_AROME, f\"AROME_Geosphere_20171015T1200Z_CAP02_2D_30min_1km_best_{variable}.nc\")\n",
    "\n",
    "        ds = xr.open_dataset(file_path)\n",
    "\n",
    "        # Use no method if lat or lon are slice objects\n",
    "        if slice_lat_lon:\n",
    "            ds = ds.sel(longitude=lon, latitude=lat).isel(time=slice(4, None))\n",
    "        else:\n",
    "            ds = ds.sel(longitude=lon, latitude=lat, method=\"nearest\").isel(time=slice(4, None))\n",
    "\n",
    "        for var, units in variables_units_2D_AROME.items():\n",
    "            if var in ds:\n",
    "                ds[var].attrs['units'] = units\n",
    "\n",
    "        ds_quantified = ds.metpy.quantify()\n",
    "        datasets.append(ds_quantified)\n",
    "\n",
    "    return xr.merge(datasets, join=\"exact\")"
   ]
  },
  {
   "cell_type": "code",
   "execution_count": 3,
   "id": "a8314104-3267-4c17-86ce-b91253dfc712",
   "metadata": {},
   "outputs": [],
   "source": [
    "def read_3D_variables_AROME(variables, method, lon, lat, slice_lat_lon=False, level=None, time=None):\n",
    "    datasets = []  # List to hold datasets for each variable\n",
    "\n",
    "    for var in variables:\n",
    "        # Construct the file path and open the dataset\n",
    "        file_path = os.path.join(dir_3D_AROME, f\"AROME_Geosphere_20171015T1200Z_CAP02_3D_30min_1km_best_{var}.nc\")\n",
    "        ds = xr.open_dataset(file_path)\n",
    "\n",
    "        if time is None:\n",
    "            time_start = pd.to_datetime('2017-10-15 14:00:00',\n",
    "                                        format='%Y-%m-%d %H:%M:%S')\n",
    "            time_end = pd.to_datetime('2017-10-16 12:00:00',\n",
    "                                      format='%Y-%m-%d %H:%M:%S')\n",
    "            time = pd.date_range(start=time_start, end=time_end, freq='30min')\n",
    "\n",
    "        # Select or interpolate the dataset based on the method\n",
    "        ds_selected = ds.isel(record=30, x=332, y=214) #IMST\n",
    "            \n",
    "        # Update variable units\n",
    "        for variable, units in variables_units_3D_AROME.items():\n",
    "            if variable in ds_selected:\n",
    "                ds_selected[variable].attrs['units'] = units\n",
    "\n",
    "        # Quantify the dataset and append to the list\n",
    "        datasets.append(ds_selected.metpy.quantify())\n",
    "\n",
    "    # Merge all datasets\n",
    "    return xr.merge(datasets, join=\"exact\")"
   ]
  },
  {
   "cell_type": "code",
   "execution_count": 4,
   "id": "96bd7f01-389a-424f-80e0-132a42233633",
   "metadata": {},
   "outputs": [],
   "source": [
    "def read_timeSeries_AROME(location):\n",
    "    \"\"\"The Timeseries is a direct AROME model output which holds all variables (see Data_structure.md) for a specific\n",
    "    location\n",
    "    ::param location: is the selected location\n",
    "    \"\"\"\n",
    "    pattern = f\"AROME_Geosphere_20171015T1200Z_{location}_timeseries_40s_*.nc\"\n",
    "    final_path_pattern = os.path.join(dir_timeseries_AROME, pattern)\n",
    "\n",
    "    # Use glob to find files that match the pattern\n",
    "    matching_files = glob.glob(final_path_pattern)\n",
    "\n",
    "    # Assuming there's only one match per location, open the dataset\n",
    "    if matching_files:\n",
    "        return xr.open_dataset(matching_files[0])\n",
    "    else:\n",
    "        raise FileNotFoundError(f\"No files found for location {location}\")"
   ]
  },
  {
   "cell_type": "code",
   "execution_count": 5,
   "id": "f0c56f8a",
   "metadata": {},
   "outputs": [],
   "source": [
    "# # to test which gridpoint to take\n",
    "# my_variable_list = [\"p\", \"q\", \"th\", \"u\", \"v\", \"z\"]\n",
    "\n",
    "# datasets = []  # List to hold datasets for each variable\n",
    "\n",
    "# for var in my_variable_list:\n",
    "#     # Construct the file path and open the dataset\n",
    "#     file_path = os.path.join(dir_3D_AROME, f\"AROME_Geosphere_20171015T1200Z_CAP02_3D_30min_1km_best_{var}.nc\")\n",
    "#     ds = xr.open_dataset(file_path)\n",
    "\n",
    "#     ds_selected = ds.isel(record=30, x=398, y=215) #referenzwert ibk\n",
    "    \n",
    "\n",
    "# ds.isel(record=30, x=332, y=214).latitude.values #logitude = 10.725, latitude = 47.235 for Imst at (47.2419° N, 10.7218° E)\n"
   ]
  },
  {
   "cell_type": "code",
   "execution_count": 6,
   "id": "d202f9e5",
   "metadata": {},
   "outputs": [],
   "source": [
    "# read_3D_variables_AROME(variables=my_variable_list, method='sel', lon=15.1, lat=47.35, time=30) \n",
    "# #angegebener wert für lon und lat ist komplett irrelevant für output\n"
   ]
  },
  {
   "cell_type": "code",
   "execution_count": null,
   "id": "4f4d492f",
   "metadata": {},
   "outputs": [],
   "source": []
  }
 ],
 "metadata": {
  "kernelspec": {
   "display_name": "Python 3 (ipykernel)",
   "language": "python",
   "name": "python3"
  },
  "language_info": {
   "codemirror_mode": {
    "name": "ipython",
    "version": 3
   },
   "file_extension": ".py",
   "mimetype": "text/x-python",
   "name": "python",
   "nbconvert_exporter": "python",
   "pygments_lexer": "ipython3",
   "version": "3.9.13"
  }
 },
 "nbformat": 4,
 "nbformat_minor": 5
}
