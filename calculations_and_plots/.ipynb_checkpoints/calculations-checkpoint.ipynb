{
 "cells": [
  {
   "cell_type": "code",
   "execution_count": 15,
   "id": "d5cf421b",
   "metadata": {},
   "outputs": [],
   "source": [
    "%%capture\n",
    "%run ../AROME/arome_plots.ipynb\n",
    "%run ../radiosonde_and_wrf.ipynb\n",
    "%run ../ICON/icon_plots.ipynb\n",
    "\n",
    "#%run D:/codes/arome_plots.ipynb\n",
    "#%run D:/codes/radiosonde_and_wrf.ipynb #obs und wrf_acinn\n",
    "#%run D:/codes/icon_plots.ipynb\n",
    "#%run D:/codes/icon2TE_plots.ipynb\n",
    "#%run D:/codes/ukmo_plots.ipynb"
   ]
  },
  {
   "cell_type": "code",
   "execution_count": 25,
   "id": "3a6d61e8-7006-43e6-9fbc-15c967f49291",
   "metadata": {},
   "outputs": [
    {
     "ename": "NameError",
     "evalue": "name 'read_icon2TE_fixed_point_and_time' is not defined",
     "output_type": "error",
     "traceback": [
      "\u001b[31m---------------------------------------------------------------------------\u001b[39m",
      "\u001b[31mNameError\u001b[39m                                 Traceback (most recent call last)",
      "\u001b[36mFile \u001b[39m\u001b[32m~\\AppData\\Local\\Temp\\ipykernel_12948\\2071963191.py:3\u001b[39m\n\u001b[32m      1\u001b[39m \u001b[38;5;66;03m#changed thing: temperature-273.15\u001b[39;00m\n\u001b[32m----> \u001b[39m\u001b[32m3\u001b[39m df_icon2TE = \u001b[43mread_icon2TE_fixed_point_and_time\u001b[49m(day=\u001b[32m16\u001b[39m, hour=\u001b[32m3\u001b[39m, my_lon=station_files_zamg[\u001b[33m\"\u001b[39m\u001b[33mLOWI\u001b[39m\u001b[33m\"\u001b[39m][\u001b[33m\"\u001b[39m\u001b[33mlon\u001b[39m\u001b[33m\"\u001b[39m],\n\u001b[32m      4\u001b[39m                                              my_lat=station_files_zamg[\u001b[33m\"\u001b[39m\u001b[33mLOWI\u001b[39m\u001b[33m\"\u001b[39m][\u001b[33m\"\u001b[39m\u001b[33mlat\u001b[39m\u001b[33m\"\u001b[39m])\n\u001b[32m      8\u001b[39m fig = plt.figure(figsize=(\u001b[32m9\u001b[39m, \u001b[32m9\u001b[39m))\n\u001b[32m      9\u001b[39m skew = SkewT(fig, rotation=\u001b[32m45\u001b[39m, rect=(\u001b[32m0.1\u001b[39m, \u001b[32m0.1\u001b[39m, \u001b[32m0.55\u001b[39m, \u001b[32m0.85\u001b[39m))\n",
      "\u001b[31mNameError\u001b[39m: name 'read_icon2TE_fixed_point_and_time' is not defined"
     ]
    },
    {
     "ename": "NameError",
     "evalue": "name 'read_icon2TE_fixed_point_and_time' is not defined",
     "output_type": "error",
     "traceback": [
      "\u001b[31m---------------------------------------------------------------------------\u001b[39m",
      "\u001b[31mNameError\u001b[39m                                 Traceback (most recent call last)",
      "\u001b[36mCell\u001b[39m\u001b[36m \u001b[39m\u001b[32mIn[25]\u001b[39m\u001b[32m, line 1\u001b[39m\n\u001b[32m----> \u001b[39m\u001b[32m1\u001b[39m \u001b[43mget_ipython\u001b[49m\u001b[43m(\u001b[49m\u001b[43m)\u001b[49m\u001b[43m.\u001b[49m\u001b[43mrun_line_magic\u001b[49m\u001b[43m(\u001b[49m\u001b[33;43m'\u001b[39;49m\u001b[33;43mrun\u001b[39;49m\u001b[33;43m'\u001b[39;49m\u001b[43m,\u001b[49m\u001b[43m \u001b[49m\u001b[33;43m\"\u001b[39;49m\u001b[33;43m../ICON/icon2TE_plots.ipynb  # doesn\u001b[39;49m\u001b[33;43m'\u001b[39;49m\u001b[33;43mt work cause no ICOND2-TE is on my pc...\u001b[39;49m\u001b[33;43m\"\u001b[39;49m\u001b[43m)\u001b[49m\n\u001b[32m      2\u001b[39m get_ipython().run_line_magic(\u001b[33m'\u001b[39m\u001b[33mrun\u001b[39m\u001b[33m'\u001b[39m, \u001b[33m'\u001b[39m\u001b[33m../UM/ukmo_plots.ipynb\u001b[39m\u001b[33m'\u001b[39m)\n",
      "\u001b[36mFile \u001b[39m\u001b[32m~\\.conda\\envs\\msc\\Lib\\site-packages\\IPython\\core\\interactiveshell.py:2478\u001b[39m, in \u001b[36mInteractiveShell.run_line_magic\u001b[39m\u001b[34m(self, magic_name, line, _stack_depth)\u001b[39m\n\u001b[32m   2476\u001b[39m     kwargs[\u001b[33m'\u001b[39m\u001b[33mlocal_ns\u001b[39m\u001b[33m'\u001b[39m] = \u001b[38;5;28mself\u001b[39m.get_local_scope(stack_depth)\n\u001b[32m   2477\u001b[39m \u001b[38;5;28;01mwith\u001b[39;00m \u001b[38;5;28mself\u001b[39m.builtin_trap:\n\u001b[32m-> \u001b[39m\u001b[32m2478\u001b[39m     result = \u001b[43mfn\u001b[49m\u001b[43m(\u001b[49m\u001b[43m*\u001b[49m\u001b[43margs\u001b[49m\u001b[43m,\u001b[49m\u001b[43m \u001b[49m\u001b[43m*\u001b[49m\u001b[43m*\u001b[49m\u001b[43mkwargs\u001b[49m\u001b[43m)\u001b[49m\n\u001b[32m   2480\u001b[39m \u001b[38;5;66;03m# The code below prevents the output from being displayed\u001b[39;00m\n\u001b[32m   2481\u001b[39m \u001b[38;5;66;03m# when using magics with decorator @output_can_be_silenced\u001b[39;00m\n\u001b[32m   2482\u001b[39m \u001b[38;5;66;03m# when the last Python token in the expression is a ';'.\u001b[39;00m\n\u001b[32m   2483\u001b[39m \u001b[38;5;28;01mif\u001b[39;00m \u001b[38;5;28mgetattr\u001b[39m(fn, magic.MAGIC_OUTPUT_CAN_BE_SILENCED, \u001b[38;5;28;01mFalse\u001b[39;00m):\n",
      "\u001b[36mFile \u001b[39m\u001b[32m~\\.conda\\envs\\msc\\Lib\\site-packages\\IPython\\core\\magics\\execution.py:748\u001b[39m, in \u001b[36mExecutionMagics.run\u001b[39m\u001b[34m(self, parameter_s, runner, file_finder)\u001b[39m\n\u001b[32m    746\u001b[39m     \u001b[38;5;28;01mwith\u001b[39;00m preserve_keys(\u001b[38;5;28mself\u001b[39m.shell.user_ns, \u001b[33m'\u001b[39m\u001b[33m__file__\u001b[39m\u001b[33m'\u001b[39m):\n\u001b[32m    747\u001b[39m         \u001b[38;5;28mself\u001b[39m.shell.user_ns[\u001b[33m'\u001b[39m\u001b[33m__file__\u001b[39m\u001b[33m'\u001b[39m] = filename\n\u001b[32m--> \u001b[39m\u001b[32m748\u001b[39m         \u001b[38;5;28;43mself\u001b[39;49m\u001b[43m.\u001b[49m\u001b[43mshell\u001b[49m\u001b[43m.\u001b[49m\u001b[43msafe_execfile_ipy\u001b[49m\u001b[43m(\u001b[49m\u001b[43mfilename\u001b[49m\u001b[43m,\u001b[49m\u001b[43m \u001b[49m\u001b[43mraise_exceptions\u001b[49m\u001b[43m=\u001b[49m\u001b[38;5;28;43;01mTrue\u001b[39;49;00m\u001b[43m)\u001b[49m\n\u001b[32m    749\u001b[39m     \u001b[38;5;28;01mreturn\u001b[39;00m\n\u001b[32m    751\u001b[39m \u001b[38;5;66;03m# Control the response to exit() calls made by the script being run\u001b[39;00m\n",
      "\u001b[36mFile \u001b[39m\u001b[32m~\\.conda\\envs\\msc\\Lib\\site-packages\\IPython\\core\\interactiveshell.py:2969\u001b[39m, in \u001b[36mInteractiveShell.safe_execfile_ipy\u001b[39m\u001b[34m(self, fname, shell_futures, raise_exceptions)\u001b[39m\n\u001b[32m   2967\u001b[39m result = \u001b[38;5;28mself\u001b[39m.run_cell(cell, silent=\u001b[38;5;28;01mTrue\u001b[39;00m, shell_futures=shell_futures)\n\u001b[32m   2968\u001b[39m \u001b[38;5;28;01mif\u001b[39;00m raise_exceptions:\n\u001b[32m-> \u001b[39m\u001b[32m2969\u001b[39m     \u001b[43mresult\u001b[49m\u001b[43m.\u001b[49m\u001b[43mraise_error\u001b[49m\u001b[43m(\u001b[49m\u001b[43m)\u001b[49m\n\u001b[32m   2970\u001b[39m \u001b[38;5;28;01melif\u001b[39;00m \u001b[38;5;129;01mnot\u001b[39;00m result.success:\n\u001b[32m   2971\u001b[39m     \u001b[38;5;28;01mbreak\u001b[39;00m\n",
      "\u001b[36mFile \u001b[39m\u001b[32m~\\.conda\\envs\\msc\\Lib\\site-packages\\IPython\\core\\interactiveshell.py:309\u001b[39m, in \u001b[36mExecutionResult.raise_error\u001b[39m\u001b[34m(self)\u001b[39m\n\u001b[32m    307\u001b[39m     \u001b[38;5;28;01mraise\u001b[39;00m \u001b[38;5;28mself\u001b[39m.error_before_exec\n\u001b[32m    308\u001b[39m \u001b[38;5;28;01mif\u001b[39;00m \u001b[38;5;28mself\u001b[39m.error_in_exec \u001b[38;5;129;01mis\u001b[39;00m \u001b[38;5;129;01mnot\u001b[39;00m \u001b[38;5;28;01mNone\u001b[39;00m:\n\u001b[32m--> \u001b[39m\u001b[32m309\u001b[39m     \u001b[38;5;28;01mraise\u001b[39;00m \u001b[38;5;28mself\u001b[39m.error_in_exec\n",
      "    \u001b[31m[... skipping hidden 1 frame]\u001b[39m\n",
      "\u001b[36mFile \u001b[39m\u001b[32m~\\AppData\\Local\\Temp\\ipykernel_12948\\2071963191.py:3\u001b[39m\n\u001b[32m      1\u001b[39m \u001b[38;5;66;03m#changed thing: temperature-273.15\u001b[39;00m\n\u001b[32m----> \u001b[39m\u001b[32m3\u001b[39m df_icon2TE = \u001b[43mread_icon2TE_fixed_point_and_time\u001b[49m(day=\u001b[32m16\u001b[39m, hour=\u001b[32m3\u001b[39m, my_lon=station_files_zamg[\u001b[33m\"\u001b[39m\u001b[33mLOWI\u001b[39m\u001b[33m\"\u001b[39m][\u001b[33m\"\u001b[39m\u001b[33mlon\u001b[39m\u001b[33m\"\u001b[39m],\n\u001b[32m      4\u001b[39m                                              my_lat=station_files_zamg[\u001b[33m\"\u001b[39m\u001b[33mLOWI\u001b[39m\u001b[33m\"\u001b[39m][\u001b[33m\"\u001b[39m\u001b[33mlat\u001b[39m\u001b[33m\"\u001b[39m])\n\u001b[32m      8\u001b[39m fig = plt.figure(figsize=(\u001b[32m9\u001b[39m, \u001b[32m9\u001b[39m))\n\u001b[32m      9\u001b[39m skew = SkewT(fig, rotation=\u001b[32m45\u001b[39m, rect=(\u001b[32m0.1\u001b[39m, \u001b[32m0.1\u001b[39m, \u001b[32m0.55\u001b[39m, \u001b[32m0.85\u001b[39m))\n",
      "\u001b[31mNameError\u001b[39m: name 'read_icon2TE_fixed_point_and_time' is not defined"
     ]
    }
   ],
   "source": [
    "%run ../ICON/icon2TE_plots.ipynb  # doesn't work cause no ICOND2-TE is on my pc...\n",
    "%run ../UM/ukmo_plots.ipynb"
   ]
  },
  {
   "cell_type": "code",
   "execution_count": 18,
   "id": "a9b58a1b",
   "metadata": {},
   "outputs": [],
   "source": [
    "import warnings\n",
    "warnings.filterwarnings(\"ignore\")\n",
    "import numpy as np\n",
    "import pandas as pd\n",
    "from scipy.constants import g\n",
    "from metpy import units\n",
    "from metpy.calc import potential_temperature\n",
    "from metpy.calc import pressure_to_height_std\n",
    "from metpy.calc import height_to_pressure_std\n",
    "from metpy.calc import relative_humidity_from_dewpoint\n",
    "import sys\n",
    "np.set_printoptions(threshold=sys.maxsize)"
   ]
  },
  {
   "cell_type": "code",
   "execution_count": 19,
   "id": "6b65581a",
   "metadata": {},
   "outputs": [],
   "source": [
    "import matplotlib.pyplot as plt\n",
    "from matplotlib.pyplot import stem\n",
    "from matplotlib.pyplot import subplots"
   ]
  },
  {
   "cell_type": "code",
   "execution_count": 20,
   "id": "576878d3",
   "metadata": {},
   "outputs": [],
   "source": [
    "model = ['OBS','WRF','AROME','UM','ICON','ICON2TE']"
   ]
  },
  {
   "cell_type": "markdown",
   "id": "f3c9692f",
   "metadata": {},
   "source": [
    "* _surf: at the surface\n",
    "* _max: where the temperature is max\n",
    "* _seg: at the Hafelekar "
   ]
  },
  {
   "cell_type": "markdown",
   "id": "eef5592f",
   "metadata": {},
   "source": [
    "# CAP depth"
   ]
  },
  {
   "cell_type": "markdown",
   "id": "36490808",
   "metadata": {},
   "source": [
    "* what is the depth?\n",
    "* strength of CAP (surface-T_max) \n",
    "* Annahme Hafelekar: 2278 m (highest HOBO)"
   ]
  },
  {
   "cell_type": "code",
   "execution_count": 35,
   "id": "023c755e",
   "metadata": {},
   "outputs": [
    {
     "ename": "NameError",
     "evalue": "name 'df_icon2TE' is not defined",
     "output_type": "error",
     "traceback": [
      "\u001b[31m---------------------------------------------------------------------------\u001b[39m",
      "\u001b[31mNameError\u001b[39m                                 Traceback (most recent call last)",
      "\u001b[36mCell\u001b[39m\u001b[36m \u001b[39m\u001b[32mIn[35]\u001b[39m\u001b[32m, line 3\u001b[39m\n\u001b[32m      1\u001b[39m height_seegrube = \u001b[32m2278\u001b[39m\n\u001b[32m      2\u001b[39m p_seg = height_to_pressure_std(height_seegrube * units(\u001b[33m'\u001b[39m\u001b[33mm\u001b[39m\u001b[33m'\u001b[39m)).magnitude\n\u001b[32m----> \u001b[39m\u001b[32m3\u001b[39m press = [df_obs[\u001b[33m'\u001b[39m\u001b[33mpressure\u001b[39m\u001b[33m'\u001b[39m], df_wrf_acinn[\u001b[33m'\u001b[39m\u001b[33mpressure\u001b[39m\u001b[33m'\u001b[39m], df_arome[\u001b[33m'\u001b[39m\u001b[33mpressure\u001b[39m\u001b[33m'\u001b[39m], data_ukmo[\u001b[33m'\u001b[39m\u001b[33mpressure\u001b[39m\u001b[33m'\u001b[39m], df_icon[\u001b[33m'\u001b[39m\u001b[33mpressure\u001b[39m\u001b[33m'\u001b[39m], \u001b[43mdf_icon2TE\u001b[49m[\u001b[33m'\u001b[39m\u001b[33mpressure\u001b[39m\u001b[33m'\u001b[39m]]\n",
      "\u001b[31mNameError\u001b[39m: name 'df_icon2TE' is not defined"
     ]
    }
   ],
   "source": [
    "height_seegrube = 2278\n",
    "p_seg = height_to_pressure_std(height_seegrube * units('m')).magnitude\n",
    "press = [df_obs['pressure'], df_wrf_acinn['pressure'], df_arome['pressure'], data_ukmo['pressure'], df_icon['pressure'], df_icon2TE['pressure']]"
   ]
  },
  {
   "cell_type": "code",
   "execution_count": 26,
   "id": "b2d3fba6",
   "metadata": {},
   "outputs": [],
   "source": [
    "#find nearest value in df to a given value\n",
    "import numpy as np\n",
    "def find_nearest(array, value):\n",
    "    array = np.asarray(array)\n",
    "    idx = (np.abs(array - value)).argmin()\n",
    "    return array[idx]"
   ]
  },
  {
   "cell_type": "markdown",
   "id": "cda05952",
   "metadata": {},
   "source": [
    "#### OBS"
   ]
  },
  {
   "cell_type": "code",
   "execution_count": 27,
   "id": "2b6fee19",
   "metadata": {},
   "outputs": [],
   "source": [
    "df_obs_convolved_T = np.convolve(np.ones(35)/35, df_obs[\"temperature\"].values, 'same')"
   ]
  },
  {
   "cell_type": "code",
   "execution_count": 28,
   "id": "9400dada",
   "metadata": {},
   "outputs": [
    {
     "ename": "NameError",
     "evalue": "name 'p_seg' is not defined",
     "output_type": "error",
     "traceback": [
      "\u001b[31m---------------------------------------------------------------------------\u001b[39m",
      "\u001b[31mNameError\u001b[39m                                 Traceback (most recent call last)",
      "\u001b[36mCell\u001b[39m\u001b[36m \u001b[39m\u001b[32mIn[28]\u001b[39m\u001b[32m, line 3\u001b[39m\n\u001b[32m      1\u001b[39m obs_T_surf = df_obs[\u001b[33m'\u001b[39m\u001b[33mtemperature\u001b[39m\u001b[33m'\u001b[39m].where(df_obs[\u001b[33m'\u001b[39m\u001b[33mpressure\u001b[39m\u001b[33m'\u001b[39m] == np.max(df_obs[\u001b[33m'\u001b[39m\u001b[33mpressure\u001b[39m\u001b[33m'\u001b[39m])).dropna(dim=\u001b[33m'\u001b[39m\u001b[33mheight\u001b[39m\u001b[33m'\u001b[39m).values\n\u001b[32m      2\u001b[39m obs_T_max = np.max(df_obs_convolved_T)\n\u001b[32m----> \u001b[39m\u001b[32m3\u001b[39m obs_T_seg = df_obs[\u001b[33m'\u001b[39m\u001b[33mtemperature\u001b[39m\u001b[33m'\u001b[39m].where(df_obs[\u001b[33m'\u001b[39m\u001b[33mpressure\u001b[39m\u001b[33m'\u001b[39m] == find_nearest(df_obs[\u001b[33m'\u001b[39m\u001b[33mpressure\u001b[39m\u001b[33m'\u001b[39m], value=\u001b[43mp_seg\u001b[49m) * units(\u001b[33m'\u001b[39m\u001b[33mhPa\u001b[39m\u001b[33m'\u001b[39m)).dropna(dim=\u001b[33m'\u001b[39m\u001b[33mheight\u001b[39m\u001b[33m'\u001b[39m).values\n\u001b[32m      5\u001b[39m obs_p_of_T_max = df_obs[\u001b[33m'\u001b[39m\u001b[33mpressure\u001b[39m\u001b[33m'\u001b[39m].where(df_obs_convolved_T == obs_T_max).dropna(dim=\u001b[33m'\u001b[39m\u001b[33mheight\u001b[39m\u001b[33m'\u001b[39m).values\n\u001b[32m      6\u001b[39m obs_p_surf = np.max(df_obs[\u001b[33m'\u001b[39m\u001b[33mpressure\u001b[39m\u001b[33m'\u001b[39m]).values\n",
      "\u001b[31mNameError\u001b[39m: name 'p_seg' is not defined"
     ]
    }
   ],
   "source": [
    "obs_T_surf = df_obs['temperature'].where(df_obs['pressure'] == np.max(df_obs['pressure'])).dropna(dim='height').values\n",
    "obs_T_max = np.max(df_obs_convolved_T)\n",
    "obs_T_seg = df_obs['temperature'].where(df_obs['pressure'] == find_nearest(df_obs['pressure'], value=p_seg) * units('hPa')).dropna(dim='height').values\n",
    "\n",
    "obs_p_of_T_max = df_obs['pressure'].where(df_obs_convolved_T == obs_T_max).dropna(dim='height').values\n",
    "obs_p_surf = np.max(df_obs['pressure']).values\n",
    "obs_z_surf = np.min(df_obs['height']).values\n",
    "obs_z_of_T_max = df_obs.height.where(df_obs_convolved_T == obs_T_max).dropna(dim='height').values"
   ]
  },
  {
   "cell_type": "markdown",
   "id": "09076e4b",
   "metadata": {},
   "source": [
    "#### WRF_ACINN"
   ]
  },
  {
   "cell_type": "code",
   "execution_count": 29,
   "id": "7c6a671f",
   "metadata": {},
   "outputs": [
    {
     "ename": "NameError",
     "evalue": "name 'p_seg' is not defined",
     "output_type": "error",
     "traceback": [
      "\u001b[31m---------------------------------------------------------------------------\u001b[39m",
      "\u001b[31mNameError\u001b[39m                                 Traceback (most recent call last)",
      "\u001b[36mCell\u001b[39m\u001b[36m \u001b[39m\u001b[32mIn[29]\u001b[39m\u001b[32m, line 4\u001b[39m\n\u001b[32m      2\u001b[39m wrf_acinn_T_surf = a[~np.isnan(a)]\n\u001b[32m      3\u001b[39m wrf_acinn_T_max = np.max(df_wrf_acinn[\u001b[33m\"\u001b[39m\u001b[33mtemperature\u001b[39m\u001b[33m\"\u001b[39m].values)\n\u001b[32m----> \u001b[39m\u001b[32m4\u001b[39m b = df_wrf_acinn[\u001b[33m'\u001b[39m\u001b[33mtemperature\u001b[39m\u001b[33m'\u001b[39m].where(df_wrf_acinn[\u001b[33m'\u001b[39m\u001b[33mpressure\u001b[39m\u001b[33m'\u001b[39m] == find_nearest(df_wrf_acinn[\u001b[33m'\u001b[39m\u001b[33mpressure\u001b[39m\u001b[33m'\u001b[39m], value=\u001b[43mp_seg\u001b[49m)).values\n\u001b[32m      5\u001b[39m wrf_acinn_T_seg = b[~np.isnan(b)]\n\u001b[32m      7\u001b[39m c = df_wrf_acinn[\u001b[33m'\u001b[39m\u001b[33mpressure\u001b[39m\u001b[33m'\u001b[39m].where(df_wrf_acinn[\u001b[33m'\u001b[39m\u001b[33mtemperature\u001b[39m\u001b[33m'\u001b[39m] == wrf_acinn_T_max).values\n",
      "\u001b[31mNameError\u001b[39m: name 'p_seg' is not defined"
     ]
    }
   ],
   "source": [
    "a = df_wrf_acinn['temperature'].where(df_wrf_acinn['pressure'] == np.max(df_wrf_acinn['pressure'])).values\n",
    "wrf_acinn_T_surf = a[~np.isnan(a)]\n",
    "wrf_acinn_T_max = np.max(df_wrf_acinn[\"temperature\"].values)\n",
    "b = df_wrf_acinn['temperature'].where(df_wrf_acinn['pressure'] == find_nearest(df_wrf_acinn['pressure'], value=p_seg)).values\n",
    "wrf_acinn_T_seg = b[~np.isnan(b)]\n",
    "\n",
    "c = df_wrf_acinn['pressure'].where(df_wrf_acinn['temperature'] == wrf_acinn_T_max).values\n",
    "wrf_acinn_p_of_T_max = c[~np.isnan(c)]\n",
    "wrf_acinn_p_surf = np.max(df_wrf_acinn['pressure']).values\n",
    "\n",
    "wrf_acinn_z_surf = np.min(df_wrf_acinn.z).values\n",
    "d = df_wrf_acinn.z.where(df_wrf_acinn['temperature'] == wrf_acinn_T_max).values\n",
    "wrf_acinn_z_of_T_max = d[~np.isnan(c)]"
   ]
  },
  {
   "cell_type": "markdown",
   "id": "523b31ce",
   "metadata": {},
   "source": [
    "#### AROME"
   ]
  },
  {
   "cell_type": "code",
   "execution_count": 30,
   "id": "027d6834",
   "metadata": {},
   "outputs": [
    {
     "ename": "NameError",
     "evalue": "name 'p_seg' is not defined",
     "output_type": "error",
     "traceback": [
      "\u001b[31m---------------------------------------------------------------------------\u001b[39m",
      "\u001b[31mNameError\u001b[39m                                 Traceback (most recent call last)",
      "\u001b[36mCell\u001b[39m\u001b[36m \u001b[39m\u001b[32mIn[30]\u001b[39m\u001b[32m, line 4\u001b[39m\n\u001b[32m      2\u001b[39m arome_T_surf = a[~np.isnan(a)]\n\u001b[32m      3\u001b[39m arome_T_max = np.max(df_arome[\u001b[33m\"\u001b[39m\u001b[33mtemperature\u001b[39m\u001b[33m\"\u001b[39m].values)\n\u001b[32m----> \u001b[39m\u001b[32m4\u001b[39m b = df_arome[\u001b[33m'\u001b[39m\u001b[33mtemperature\u001b[39m\u001b[33m'\u001b[39m].where(df_arome[\u001b[33m'\u001b[39m\u001b[33mpressure\u001b[39m\u001b[33m'\u001b[39m] == find_nearest(df_arome[\u001b[33m'\u001b[39m\u001b[33mpressure\u001b[39m\u001b[33m'\u001b[39m], value=\u001b[43mp_seg\u001b[49m)* units(\u001b[33m'\u001b[39m\u001b[33mhPa\u001b[39m\u001b[33m'\u001b[39m)).values\n\u001b[32m      5\u001b[39m arome_T_seg = b[~np.isnan(b)]\n\u001b[32m      7\u001b[39m c = df_arome[\u001b[33m'\u001b[39m\u001b[33mpressure\u001b[39m\u001b[33m'\u001b[39m].where(df_arome[\u001b[33m'\u001b[39m\u001b[33mtemperature\u001b[39m\u001b[33m'\u001b[39m] == find_nearest(df_arome[\u001b[33m'\u001b[39m\u001b[33mtemperature\u001b[39m\u001b[33m'\u001b[39m], value=arome_T_max)* units(\u001b[33m'\u001b[39m\u001b[33mdegree_Celsius\u001b[39m\u001b[33m'\u001b[39m)).values\n",
      "\u001b[31mNameError\u001b[39m: name 'p_seg' is not defined"
     ]
    }
   ],
   "source": [
    "a = df_arome['temperature'].where(df_arome['pressure'] == np.max(df_arome['pressure'])).values\n",
    "arome_T_surf = a[~np.isnan(a)]\n",
    "arome_T_max = np.max(df_arome[\"temperature\"].values)\n",
    "b = df_arome['temperature'].where(df_arome['pressure'] == find_nearest(df_arome['pressure'], value=p_seg)* units('hPa')).values\n",
    "arome_T_seg = b[~np.isnan(b)]\n",
    "\n",
    "c = df_arome['pressure'].where(df_arome['temperature'] == find_nearest(df_arome['temperature'], value=arome_T_max)* units('degree_Celsius')).values\n",
    "arome_p_of_T_max = c[~np.isnan(c)]\n",
    "arome_p_surf = np.max(df_arome['pressure']).values\n",
    "\n",
    "arome_z_surf = np.min(df_arome.height).values\n",
    "d = df_arome.height.where(df_arome['temperature'] == find_nearest(df_arome['temperature'], value=arome_T_max)* units('degree_Celsius')).values\n",
    "arome_z_of_T_max = d[~np.isnan(c)]\n"
   ]
  },
  {
   "cell_type": "markdown",
   "id": "5e8914c9",
   "metadata": {},
   "source": [
    "#### UM"
   ]
  },
  {
   "cell_type": "code",
   "execution_count": 11,
   "id": "a3ccd8b1",
   "metadata": {},
   "outputs": [],
   "source": [
    "a = data_ukmo['temperature'].where(data_ukmo['pressure'] == np.max(data_ukmo['pressure'])).values\n",
    "ukmo_T_surf = a[~np.isnan(a)]\n",
    "ukmo_T_max = np.max(data_ukmo[\"temperature\"].values)\n",
    "b = data_ukmo['temperature'].where(data_ukmo['pressure'] == find_nearest(data_ukmo['pressure'], value=p_seg)).values\n",
    "ukmo_T_seg = b[~np.isnan(b)]\n",
    "\n",
    "c = data_ukmo['pressure'].where(data_ukmo['temperature'] == ukmo_T_max).values\n",
    "ukmo_p_of_T_max = c[~np.isnan(c)]\n",
    "ukmo_p_surf = np.max(data_ukmo['pressure'])\n",
    "\n",
    "ukmo_z_surf = np.min(data_ukmo.geopotential_height)\n",
    "d = data_ukmo.geopotential_height.where(data_ukmo['temperature'] == ukmo_T_max).values\n",
    "ukmo_z_of_T_max = d[~np.isnan(c)]"
   ]
  },
  {
   "cell_type": "markdown",
   "id": "47063f5d",
   "metadata": {},
   "source": [
    "#### ICON"
   ]
  },
  {
   "cell_type": "code",
   "execution_count": 12,
   "id": "147c69a5",
   "metadata": {},
   "outputs": [],
   "source": [
    "a = df_icon['temperature'].where(df_icon['pressure'] == np.max(df_icon['pressure'])).values\n",
    "icon_T_surf = a[~np.isnan(a)]\n",
    "icon_T_max = np.max(df_icon[\"temperature\"].values)\n",
    "b = df_icon['temperature'].where(df_icon['pressure'] == find_nearest(df_icon['pressure'], value=p_seg)).values\n",
    "icon_T_seg = b[~np.isnan(b)]\n",
    "\n",
    "c = df_icon['pressure'].where(df_icon['temperature'] == icon_T_max).values\n",
    "icon_p_of_T_max = c[~np.isnan(c)]\n",
    "icon_p_surf = np.max(df_icon['pressure']).values\n",
    "\n",
    "icon_z_surf = pressure_to_height_std(icon_p_surf * units('hPa')).magnitude * 1000 #m\n",
    "icon_z_of_T_max = pressure_to_height_std(icon_p_of_T_max * units('hPa')).magnitude * 1000 #m\n"
   ]
  },
  {
   "cell_type": "markdown",
   "id": "cb0c364e",
   "metadata": {},
   "source": [
    "#### ICON2TE"
   ]
  },
  {
   "cell_type": "code",
   "execution_count": 13,
   "id": "dec2db87",
   "metadata": {},
   "outputs": [],
   "source": [
    "a = df_icon2TE['temperature'].where(df_icon2TE['pressure'] == np.max(df_icon2TE['pressure'])).values\n",
    "icon2TE_T_surf = a[~np.isnan(a)]\n",
    "icon2TE_T_max = np.max(df_icon2TE[\"temperature\"].values)\n",
    "b = df_icon2TE['temperature'].where(df_icon2TE['pressure'] == find_nearest(df_icon2TE['pressure'], value=p_seg)).values\n",
    "icon2TE_T_seg = b[~np.isnan(b)]\n",
    "\n",
    "c = df_icon2TE['pressure'].where(df_icon2TE['temperature'] == icon2TE_T_max).values\n",
    "icon2TE_p_of_T_max = c[~np.isnan(c)]\n",
    "icon2TE_p_surf = np.max(df_icon2TE['pressure']).values\n",
    "\n",
    "icon2TE_z_surf = pressure_to_height_std(icon2TE_p_surf * units('hPa')).magnitude * 1000 #m\n",
    "icon2TE_z_of_T_max = pressure_to_height_std(icon2TE_p_of_T_max * units('hPa')).magnitude * 1000 #m\n"
   ]
  },
  {
   "cell_type": "code",
   "execution_count": 14,
   "id": "f5f76dae",
   "metadata": {},
   "outputs": [
    {
     "data": {
      "text/html": [
       "<div>\n",
       "<style scoped>\n",
       "    .dataframe tbody tr th:only-of-type {\n",
       "        vertical-align: middle;\n",
       "    }\n",
       "\n",
       "    .dataframe tbody tr th {\n",
       "        vertical-align: top;\n",
       "    }\n",
       "\n",
       "    .dataframe thead th {\n",
       "        text-align: right;\n",
       "    }\n",
       "</style>\n",
       "<table border=\"1\" class=\"dataframe\">\n",
       "  <thead>\n",
       "    <tr style=\"text-align: right;\">\n",
       "      <th></th>\n",
       "      <th>p_surf [hPa]</th>\n",
       "      <th>p_max [hPa]</th>\n",
       "      <th>p_seg [hPa]</th>\n",
       "      <th>p_diff_seg_surf [hPa]</th>\n",
       "      <th>p_diff_max_surf [hPa]</th>\n",
       "      <th>z_surf [m]</th>\n",
       "      <th>z_max [m]</th>\n",
       "      <th>z_seg [m]</th>\n",
       "      <th>z_diff_seg_surf [m]</th>\n",
       "      <th>z_diff_max_surf [m]</th>\n",
       "    </tr>\n",
       "    <tr>\n",
       "      <th>model</th>\n",
       "      <th></th>\n",
       "      <th></th>\n",
       "      <th></th>\n",
       "      <th></th>\n",
       "      <th></th>\n",
       "      <th></th>\n",
       "      <th></th>\n",
       "      <th></th>\n",
       "      <th></th>\n",
       "      <th></th>\n",
       "    </tr>\n",
       "  </thead>\n",
       "  <tbody>\n",
       "    <tr>\n",
       "      <th>OBS</th>\n",
       "      <td>962.300000</td>\n",
       "      <td>854.600000</td>\n",
       "      <td>767.775483</td>\n",
       "      <td>194.524517</td>\n",
       "      <td>107.700000</td>\n",
       "      <td>578.000000</td>\n",
       "      <td>1572.000000</td>\n",
       "      <td>2278.0</td>\n",
       "      <td>1700.000000</td>\n",
       "      <td>994.000000</td>\n",
       "    </tr>\n",
       "    <tr>\n",
       "      <th>WRF</th>\n",
       "      <td>958.272034</td>\n",
       "      <td>938.135925</td>\n",
       "      <td>767.775483</td>\n",
       "      <td>190.496551</td>\n",
       "      <td>20.136108</td>\n",
       "      <td>592.576111</td>\n",
       "      <td>774.197388</td>\n",
       "      <td>2278.0</td>\n",
       "      <td>1685.423889</td>\n",
       "      <td>181.621277</td>\n",
       "    </tr>\n",
       "    <tr>\n",
       "      <th>AROME</th>\n",
       "      <td>955.062073</td>\n",
       "      <td>924.994751</td>\n",
       "      <td>767.775483</td>\n",
       "      <td>187.286590</td>\n",
       "      <td>30.067322</td>\n",
       "      <td>627.787598</td>\n",
       "      <td>899.492249</td>\n",
       "      <td>2278.0</td>\n",
       "      <td>1650.212402</td>\n",
       "      <td>271.704651</td>\n",
       "    </tr>\n",
       "    <tr>\n",
       "      <th>UM</th>\n",
       "      <td>957.469971</td>\n",
       "      <td>941.875000</td>\n",
       "      <td>767.775483</td>\n",
       "      <td>189.694488</td>\n",
       "      <td>15.594971</td>\n",
       "      <td>605.625000</td>\n",
       "      <td>745.375000</td>\n",
       "      <td>2278.0</td>\n",
       "      <td>1672.375000</td>\n",
       "      <td>139.750000</td>\n",
       "    </tr>\n",
       "    <tr>\n",
       "      <th>ICON</th>\n",
       "      <td>959.588684</td>\n",
       "      <td>957.208252</td>\n",
       "      <td>767.775483</td>\n",
       "      <td>191.813202</td>\n",
       "      <td>2.380432</td>\n",
       "      <td>456.337674</td>\n",
       "      <td>477.054901</td>\n",
       "      <td>2278.0</td>\n",
       "      <td>1821.662326</td>\n",
       "      <td>20.717227</td>\n",
       "    </tr>\n",
       "    <tr>\n",
       "      <th>ICON2TE</th>\n",
       "      <td>959.912170</td>\n",
       "      <td>937.698364</td>\n",
       "      <td>767.775483</td>\n",
       "      <td>192.136688</td>\n",
       "      <td>22.213806</td>\n",
       "      <td>453.525508</td>\n",
       "      <td>648.444275</td>\n",
       "      <td>2278.0</td>\n",
       "      <td>1824.474492</td>\n",
       "      <td>194.918767</td>\n",
       "    </tr>\n",
       "  </tbody>\n",
       "</table>\n",
       "</div>"
      ],
      "text/plain": [
       "         p_surf [hPa]  p_max [hPa]  p_seg [hPa]  p_diff_seg_surf [hPa]  \\\n",
       "model                                                                    \n",
       "OBS        962.300000   854.600000   767.775483             194.524517   \n",
       "WRF        958.272034   938.135925   767.775483             190.496551   \n",
       "AROME      955.062073   924.994751   767.775483             187.286590   \n",
       "UM         957.469971   941.875000   767.775483             189.694488   \n",
       "ICON       959.588684   957.208252   767.775483             191.813202   \n",
       "ICON2TE    959.912170   937.698364   767.775483             192.136688   \n",
       "\n",
       "         p_diff_max_surf [hPa]  z_surf [m]    z_max [m]  z_seg [m]  \\\n",
       "model                                                                \n",
       "OBS                 107.700000  578.000000  1572.000000     2278.0   \n",
       "WRF                  20.136108  592.576111   774.197388     2278.0   \n",
       "AROME                30.067322  627.787598   899.492249     2278.0   \n",
       "UM                   15.594971  605.625000   745.375000     2278.0   \n",
       "ICON                  2.380432  456.337674   477.054901     2278.0   \n",
       "ICON2TE              22.213806  453.525508   648.444275     2278.0   \n",
       "\n",
       "         z_diff_seg_surf [m]  z_diff_max_surf [m]  \n",
       "model                                              \n",
       "OBS              1700.000000           994.000000  \n",
       "WRF              1685.423889           181.621277  \n",
       "AROME            1650.212402           271.704651  \n",
       "UM               1672.375000           139.750000  \n",
       "ICON             1821.662326            20.717227  \n",
       "ICON2TE          1824.474492           194.918767  "
      ]
     },
     "execution_count": 14,
     "metadata": {},
     "output_type": "execute_result"
    }
   ],
   "source": [
    "z_surf = np.array([obs_z_surf, wrf_acinn_z_surf, arome_z_surf, ukmo_z_surf, icon_z_surf, icon2TE_z_surf])\n",
    "z_max = np.array([obs_z_of_T_max, wrf_acinn_z_of_T_max, arome_z_of_T_max, ukmo_z_of_T_max, icon_z_of_T_max, icon2TE_z_of_T_max]).T.flatten()\n",
    "z_seg = np.ones(6) * height_seegrube\n",
    "p_surf = np.array([obs_p_surf, wrf_acinn_p_surf, arome_p_surf, ukmo_p_surf, icon_p_surf, icon2TE_p_surf])\n",
    "p_max = np.array([obs_p_of_T_max, wrf_acinn_p_of_T_max, arome_p_of_T_max, ukmo_p_of_T_max, icon_p_of_T_max, icon2TE_p_of_T_max]).T.flatten()\n",
    "\n",
    "\n",
    "depth = pd.DataFrame({'model': model,\n",
    "                      'p_surf [hPa]': p_surf,\n",
    "                      'p_max [hPa]': p_max,\n",
    "                      'p_seg [hPa]': p_seg,\n",
    "                      'p_diff_seg_surf [hPa]': p_surf-p_seg,\n",
    "                      'p_diff_max_surf [hPa]': p_surf-p_max,\n",
    "                      'z_surf [m]': z_surf,\n",
    "                      'z_max [m]': z_max,\n",
    "                      'z_seg [m]': z_seg,\n",
    "                      'z_diff_seg_surf [m]': z_seg-z_surf,\n",
    "                      'z_diff_max_surf [m]': z_max-z_surf,\n",
    "                        }).set_index('model')\n",
    "depth\n"
   ]
  },
  {
   "cell_type": "markdown",
   "id": "cdff9c26",
   "metadata": {},
   "source": [
    "# Brunt-Väisälä-Frequency"
   ]
  },
  {
   "cell_type": "markdown",
   "id": "53343cd9",
   "metadata": {},
   "source": [
    "$N = \\sqrt{\\frac{g}{\\theta} \\frac{\\delta \\theta}{\\delta z}}$   with z coordinates"
   ]
  },
  {
   "cell_type": "markdown",
   "id": "76ea1343-2002-4ecd-8ee2-214a3cf684e1",
   "metadata": {},
   "source": [
    "###### Non-dimensional mountain height (Froud-number) H\n",
    "\n",
    "$H = \\frac{N_m h}{u_n}$"
   ]
  },
  {
   "cell_type": "markdown",
   "id": "0a3c5528",
   "metadata": {},
   "source": [
    "Pressure at Seegrube = 800 hPa = 2278.78 m"
   ]
  },
  {
   "cell_type": "code",
   "execution_count": 18,
   "id": "6911d4a2",
   "metadata": {},
   "outputs": [],
   "source": [
    "def bv_freq(theta0, theta1, z0, z1):\n",
    "    theta_mean = (theta1 + theta0)/2\n",
    "    N = np.sqrt(g/theta_mean * (theta1-theta0)/(z1-z0))\n",
    "    return N #* units('1/s')"
   ]
  },
  {
   "cell_type": "markdown",
   "id": "e7a83712",
   "metadata": {},
   "source": [
    "#### OBS"
   ]
  },
  {
   "cell_type": "code",
   "execution_count": 20,
   "id": "f7f9a794",
   "metadata": {},
   "outputs": [],
   "source": [
    "obs_th_surf = potential_temperature(np.max(df_obs['pressure']), obs_T_surf*units('degree_Celsius')).magnitude\n",
    "obs_th_max = potential_temperature(obs_p_of_T_max*units('hPa'), obs_T_max*units('degree_Celsius')).magnitude\n",
    "obs_th_seg = potential_temperature(p_seg*units('hPa'), obs_T_seg*units('degree_Celsius')).magnitude\n"
   ]
  },
  {
   "cell_type": "markdown",
   "id": "088dd239",
   "metadata": {},
   "source": [
    "#### WRF_ACINN"
   ]
  },
  {
   "cell_type": "code",
   "execution_count": 21,
   "id": "5b386baf",
   "metadata": {},
   "outputs": [],
   "source": [
    "wrf_acinn_th_surf = potential_temperature(np.max(df_wrf_acinn['pressure'])*units('hPa'), wrf_acinn_T_surf*units('degree_Celsius'))\n",
    "wrf_acinn_th_max = potential_temperature(wrf_acinn_p_of_T_max*units('hPa'), wrf_acinn_T_max*units('degree_Celsius'))\n",
    "wrf_acinn_th_seg = potential_temperature(p_seg*units('hPa'), wrf_acinn_T_seg*units('degree_Celsius'))\n"
   ]
  },
  {
   "cell_type": "markdown",
   "id": "db15fcc1",
   "metadata": {},
   "source": [
    "#### AROME"
   ]
  },
  {
   "cell_type": "code",
   "execution_count": 22,
   "id": "455f68ce",
   "metadata": {},
   "outputs": [],
   "source": [
    "arome_th_surf = potential_temperature(np.max(df_arome['pressure']), arome_T_surf*units('degree_Celsius'))\n",
    "arome_th_max = potential_temperature(arome_p_of_T_max*units('hPa'), arome_T_max*units('degree_Celsius'))\n",
    "arome_th_seg = potential_temperature(p_seg*units('hPa'), arome_T_seg*units('degree_Celsius'))\n"
   ]
  },
  {
   "cell_type": "markdown",
   "id": "640843c1",
   "metadata": {},
   "source": [
    "#### UM"
   ]
  },
  {
   "cell_type": "code",
   "execution_count": 23,
   "id": "ad374a9f",
   "metadata": {},
   "outputs": [],
   "source": [
    "ukmo_th_surf = potential_temperature(np.max(data_ukmo['pressure'])*units('hPa'), ukmo_T_surf*units('degree_Celsius'))\n",
    "ukmo_th_max = potential_temperature(ukmo_p_of_T_max*units('hPa'), ukmo_T_max*units('degree_Celsius'))\n",
    "ukmo_th_seg = potential_temperature(p_seg*units('hPa'), ukmo_T_seg*units('degree_Celsius'))\n"
   ]
  },
  {
   "cell_type": "markdown",
   "id": "3a997913",
   "metadata": {},
   "source": [
    "#### ICON"
   ]
  },
  {
   "cell_type": "code",
   "execution_count": 24,
   "id": "aa84874b",
   "metadata": {},
   "outputs": [],
   "source": [
    "icon_th_surf = potential_temperature(np.max(df_icon['pressure'])*units('hPa'), icon_T_surf*units('degree_Celsius'))\n",
    "icon_th_max = potential_temperature(icon_p_of_T_max*units('hPa'), icon_T_max*units('degree_Celsius'))\n",
    "icon_th_seg = potential_temperature(p_seg*units('hPa'), icon_T_seg*units('degree_Celsius'))\n"
   ]
  },
  {
   "cell_type": "markdown",
   "id": "a89d97ca",
   "metadata": {},
   "source": [
    "#### ICON2TE"
   ]
  },
  {
   "cell_type": "code",
   "execution_count": 25,
   "id": "d4312483",
   "metadata": {},
   "outputs": [],
   "source": [
    "icon2TE_th_surf = potential_temperature(np.max(df_icon2TE['pressure'])*units('hPa'), icon2TE_T_surf*units('degree_Celsius'))\n",
    "icon2TE_th_max = potential_temperature(icon2TE_p_of_T_max*units('hPa'), icon2TE_T_max*units('degree_Celsius'))\n",
    "icon2TE_th_seg = potential_temperature(p_seg*units('hPa'), icon2TE_T_seg*units('degree_Celsius'))\n"
   ]
  },
  {
   "cell_type": "code",
   "execution_count": 26,
   "id": "8d5e7c5d",
   "metadata": {},
   "outputs": [
    {
     "data": {
      "text/html": [
       "<div>\n",
       "<style scoped>\n",
       "    .dataframe tbody tr th:only-of-type {\n",
       "        vertical-align: middle;\n",
       "    }\n",
       "\n",
       "    .dataframe tbody tr th {\n",
       "        vertical-align: top;\n",
       "    }\n",
       "\n",
       "    .dataframe thead th {\n",
       "        text-align: right;\n",
       "    }\n",
       "</style>\n",
       "<table border=\"1\" class=\"dataframe\">\n",
       "  <thead>\n",
       "    <tr style=\"text-align: right;\">\n",
       "      <th></th>\n",
       "      <th>bv_freq_seg_surf [$s^{-1}$]</th>\n",
       "      <th>bv_freq_maxT_surf [$s^{-1}$]</th>\n",
       "    </tr>\n",
       "    <tr>\n",
       "      <th>model</th>\n",
       "      <th></th>\n",
       "      <th></th>\n",
       "    </tr>\n",
       "  </thead>\n",
       "  <tbody>\n",
       "    <tr>\n",
       "      <th>OBS</th>\n",
       "      <td>0.020942</td>\n",
       "      <td>0.024330</td>\n",
       "    </tr>\n",
       "    <tr>\n",
       "      <th>WRF</th>\n",
       "      <td>0.014575</td>\n",
       "      <td>0.024497</td>\n",
       "    </tr>\n",
       "    <tr>\n",
       "      <th>AROME</th>\n",
       "      <td>0.017743</td>\n",
       "      <td>0.029437</td>\n",
       "    </tr>\n",
       "    <tr>\n",
       "      <th>UM</th>\n",
       "      <td>0.014074</td>\n",
       "      <td>0.021153</td>\n",
       "    </tr>\n",
       "    <tr>\n",
       "      <th>ICON</th>\n",
       "      <td>0.015466</td>\n",
       "      <td>0.077470</td>\n",
       "    </tr>\n",
       "    <tr>\n",
       "      <th>ICON2TE</th>\n",
       "      <td>0.014786</td>\n",
       "      <td>0.022744</td>\n",
       "    </tr>\n",
       "  </tbody>\n",
       "</table>\n",
       "</div>"
      ],
      "text/plain": [
       "         bv_freq_seg_surf [$s^{-1}$]  bv_freq_maxT_surf [$s^{-1}$]\n",
       "model                                                             \n",
       "OBS                         0.020942                      0.024330\n",
       "WRF                         0.014575                      0.024497\n",
       "AROME                       0.017743                      0.029437\n",
       "UM                          0.014074                      0.021153\n",
       "ICON                        0.015466                      0.077470\n",
       "ICON2TE                     0.014786                      0.022744"
      ]
     },
     "execution_count": 26,
     "metadata": {},
     "output_type": "execute_result"
    }
   ],
   "source": [
    "th_surf = np.array([obs_th_surf, wrf_acinn_th_surf, arome_th_surf, ukmo_th_surf, icon_th_surf, icon2TE_th_surf])\n",
    "th_max = np.array([obs_th_max, wrf_acinn_th_max, arome_th_max, ukmo_th_max, icon_th_max, icon2TE_th_max])\n",
    "th_seg = np.array([obs_th_seg, wrf_acinn_th_seg, arome_th_seg, ukmo_th_seg, icon_th_seg, icon2TE_th_seg])\n",
    "\n",
    "\n",
    "N1 = np.zeros(6)\n",
    "N2 = np.zeros(6)\n",
    "for i in range(6):\n",
    "    N1[i] = bv_freq(th_surf[i], th_seg[i], z_surf[i], z_seg[i])\n",
    "    N2[i] = bv_freq(th_surf[i], th_max[i], z_surf[i], z_max[i])\n",
    "\n",
    "brunt_väisälä_freq = pd.DataFrame({'model': model,\n",
    "                               'bv_freq_seg_surf [$s^{-1}$]': N1,\n",
    "                               'bv_freq_maxT_surf [$s^{-1}$]': N2,\n",
    "                                }).set_index('model')\n",
    "brunt_väisälä_freq\n"
   ]
  },
  {
   "cell_type": "code",
   "execution_count": 27,
   "id": "0d49e129",
   "metadata": {},
   "outputs": [
    {
     "data": {
      "text/plain": [
       "array([[0.02433006, 0.05691845, 0.04653588, 0.06488743, 0.16852745,\n",
       "        0.05494265],\n",
       "       [0.01047157, 0.02449748, 0.02002886, 0.0279273 , 0.07253356,\n",
       "        0.0236471 ],\n",
       "       [0.01539044, 0.03600484, 0.02943715, 0.04104577, 0.10660522,\n",
       "        0.03475501],\n",
       "       [0.00793137, 0.01855486, 0.01517025, 0.02115267, 0.05493832,\n",
       "        0.01791077],\n",
       "       [0.0111843 , 0.02616488, 0.02139211, 0.02982814, 0.07747049,\n",
       "        0.02525662],\n",
       "       [0.01007179, 0.02356223, 0.01926421, 0.02686111, 0.06976443,\n",
       "        0.02274432]])"
      ]
     },
     "execution_count": 27,
     "metadata": {},
     "output_type": "execute_result"
    }
   ],
   "source": [
    "bv_freq(th_surf, th_max, z_surf, z_max)"
   ]
  },
  {
   "cell_type": "markdown",
   "id": "43873391",
   "metadata": {},
   "source": [
    "# Bulk Temperature Gradient"
   ]
  },
  {
   "cell_type": "markdown",
   "id": "fb6cdb47",
   "metadata": {},
   "source": [
    "$\\frac{T_1 - T_0}{z_1 - z_0}$"
   ]
  },
  {
   "cell_type": "code",
   "execution_count": 29,
   "id": "30575a96",
   "metadata": {},
   "outputs": [
    {
     "data": {
      "text/html": [
       "<div>\n",
       "<style scoped>\n",
       "    .dataframe tbody tr th:only-of-type {\n",
       "        vertical-align: middle;\n",
       "    }\n",
       "\n",
       "    .dataframe tbody tr th {\n",
       "        vertical-align: top;\n",
       "    }\n",
       "\n",
       "    .dataframe thead th {\n",
       "        text-align: right;\n",
       "    }\n",
       "</style>\n",
       "<table border=\"1\" class=\"dataframe\">\n",
       "  <thead>\n",
       "    <tr style=\"text-align: right;\">\n",
       "      <th></th>\n",
       "      <th>bulk_T_grad_seg_surf [$°Cm^{-1}$]</th>\n",
       "      <th>bulk_T_grad_max_surf [$°Cm^{-1}$]</th>\n",
       "      <th>bulk_theta_grad_seg_surf [$Km^{-1}$]</th>\n",
       "      <th>bulk_theta_grad_max_surf [$Km^{-1}$]</th>\n",
       "    </tr>\n",
       "    <tr>\n",
       "      <th>model</th>\n",
       "      <th></th>\n",
       "      <th></th>\n",
       "      <th></th>\n",
       "      <th></th>\n",
       "    </tr>\n",
       "  </thead>\n",
       "  <tbody>\n",
       "    <tr>\n",
       "      <th>OBS</th>\n",
       "      <td>0.001906</td>\n",
       "      <td>0.007428</td>\n",
       "      <td>0.013120</td>\n",
       "      <td>0.017563</td>\n",
       "    </tr>\n",
       "    <tr>\n",
       "      <th>WRF</th>\n",
       "      <td>-0.004540</td>\n",
       "      <td>0.008058</td>\n",
       "      <td>0.006461</td>\n",
       "      <td>0.018018</td>\n",
       "    </tr>\n",
       "    <tr>\n",
       "      <th>AROME</th>\n",
       "      <td>-0.001616</td>\n",
       "      <td>0.015756</td>\n",
       "      <td>0.009547</td>\n",
       "      <td>0.025894</td>\n",
       "    </tr>\n",
       "    <tr>\n",
       "      <th>UM</th>\n",
       "      <td>-0.004999</td>\n",
       "      <td>0.003492</td>\n",
       "      <td>0.006023</td>\n",
       "      <td>0.013417</td>\n",
       "    </tr>\n",
       "    <tr>\n",
       "      <th>ICON</th>\n",
       "      <td>-0.003010</td>\n",
       "      <td>0.166909</td>\n",
       "      <td>0.007248</td>\n",
       "      <td>0.178966</td>\n",
       "    </tr>\n",
       "    <tr>\n",
       "      <th>ICON2TE</th>\n",
       "      <td>-0.003614</td>\n",
       "      <td>0.005323</td>\n",
       "      <td>0.006637</td>\n",
       "      <td>0.015465</td>\n",
       "    </tr>\n",
       "  </tbody>\n",
       "</table>\n",
       "</div>"
      ],
      "text/plain": [
       "         bulk_T_grad_seg_surf [$°Cm^{-1}$]  bulk_T_grad_max_surf [$°Cm^{-1}$]  \\\n",
       "model                                                                           \n",
       "OBS                               0.001906                           0.007428   \n",
       "WRF                              -0.004540                           0.008058   \n",
       "AROME                            -0.001616                           0.015756   \n",
       "UM                               -0.004999                           0.003492   \n",
       "ICON                             -0.003010                           0.166909   \n",
       "ICON2TE                          -0.003614                           0.005323   \n",
       "\n",
       "         bulk_theta_grad_seg_surf [$Km^{-1}$]  \\\n",
       "model                                           \n",
       "OBS                                  0.013120   \n",
       "WRF                                  0.006461   \n",
       "AROME                                0.009547   \n",
       "UM                                   0.006023   \n",
       "ICON                                 0.007248   \n",
       "ICON2TE                              0.006637   \n",
       "\n",
       "         bulk_theta_grad_max_surf [$Km^{-1}$]  \n",
       "model                                          \n",
       "OBS                                  0.017563  \n",
       "WRF                                  0.018018  \n",
       "AROME                                0.025894  \n",
       "UM                                   0.013417  \n",
       "ICON                                 0.178966  \n",
       "ICON2TE                              0.015465  "
      ]
     },
     "execution_count": 29,
     "metadata": {},
     "output_type": "execute_result"
    }
   ],
   "source": [
    "T_surf = np.array([obs_T_surf, wrf_acinn_T_surf, arome_T_surf, ukmo_T_surf, icon_T_surf, icon2TE_T_surf]).T.flatten()\n",
    "T_max = np.array([obs_T_max, wrf_acinn_T_max, arome_T_max, ukmo_T_max, icon_T_max, icon2TE_T_max])\n",
    "T_seg = np.array([obs_T_seg, wrf_acinn_T_seg, arome_T_seg, ukmo_T_seg, icon_T_seg, icon2TE_T_seg]).T.flatten()\n",
    "\n",
    "\n",
    "# Bulk Temperature Gradient between Seegrube and Surface (Temperature in °C, height in m)\n",
    "(T_seg - T_surf) / (z_seg - z_surf)\n",
    "# Bulk Temperature Gradient between Max. T and Surface (Temperature in °C, height in m)\n",
    "(T_max - T_surf) / (z_max - z_surf)\n",
    "\n",
    "bulk_temp_grad = pd.DataFrame({'model': model,\n",
    "                               'bulk_T_grad_seg_surf [$°Cm^{-1}$]': (T_seg - T_surf) / (z_seg - z_surf),\n",
    "                               'bulk_T_grad_max_surf [$°Cm^{-1}$]': (T_max - T_surf) / (z_max - z_surf),\n",
    "                               'bulk_theta_grad_seg_surf [$Km^{-1}$]': (th_seg - th_surf).T.flatten() / (z_seg - z_surf),\n",
    "                               'bulk_theta_grad_max_surf [$Km^{-1}$]': (th_max - th_surf).T.flatten() / (z_max - z_surf),\n",
    "                                }).set_index('model')\n",
    "bulk_temp_grad\n"
   ]
  },
  {
   "cell_type": "code",
   "execution_count": 30,
   "id": "d1258138",
   "metadata": {},
   "outputs": [
    {
     "data": {
      "image/png": "[encoded data removed]",
      "text/plain": [
       "<Figure size 550x650 with 2 Axes>"
      ]
     },
     "metadata": {},
     "output_type": "display_data"
    }
   ],
   "source": [
    "f, ax = plt.subplots(2, 1, figsize = (5.5,6.5))\n",
    "ax[0].bar(model, (T_seg - T_surf) / (z_seg - z_surf), width=0.5, label= 'T Surface-Seegrube')\n",
    "ax[0].stem(model, (th_seg - th_surf).T.flatten() / (z_seg - z_surf), 'k', markerfmt='ko', basefmt='k',label= r'$\\theta$ Surface-Seegrube')\n",
    "\n",
    "ax[1].bar(model, (T_max - T_surf) / (z_max - z_surf), width=0.5, label= 'T Surface-TOI')\n",
    "ax[1].stem(model, (th_max - th_surf).T.flatten() / (z_max - z_surf), 'k', markerfmt='ko', basefmt='k', label= r'$\\theta$ Surface-TOSL')\n",
    "\n",
    "\n",
    "titel = [r'$\\frac{T_1 - T_0}{z_1 - z_0}$', r\"$\\frac{T_1 - T_0}{z_1 - z_0}$\"]\n",
    "legend = ['Surface-Seegrube', 'Surface-TOI']\n",
    "for i in range(2):\n",
    "    ax[i].set_ylabel(titel[i])\n",
    "    plt.setp(ax[i].get_xticklabels(), rotation=30, horizontalalignment='right') #rotate x_labels\n",
    "    ax[i].grid()\n",
    "    ax[i].legend()\n",
    "plt.suptitle('Bulk Temperature Gradient')\n",
    "plt.tight_layout() #stop figures from overlapping\n"
   ]
  },
  {
   "cell_type": "markdown",
   "id": "3b4d0872",
   "metadata": {},
   "source": [
    "# Valley Heat Deficit"
   ]
  },
  {
   "cell_type": "markdown",
   "id": "b1a22336",
   "metadata": {},
   "source": [
    "use absolute temperature T by definition"
   ]
  },
  {
   "cell_type": "markdown",
   "id": "9a0a4b6d",
   "metadata": {},
   "source": [
    "#### OBS"
   ]
  },
  {
   "cell_type": "code",
   "execution_count": 31,
   "id": "6e772857",
   "metadata": {},
   "outputs": [],
   "source": [
    "#bulk valley heat deficit\n",
    "\n",
    "def valley_heat_def(T0, T1, z0, z1):\n",
    "    gamma = -0.0098 #* units('K*m**(-1)')\n",
    "    rho_0 = 1.2 #* units('kg*m**(-3)')\n",
    "    c_p = 1005 #* units('J*kg**(-1)*K**(-1)')\n",
    "    H = 0.5 * rho_0 * c_p * (z1-z0)**2 * ((T1-T0)/(z1-z0) + abs(gamma))\n",
    "    return H * units('J*m**(-2)')"
   ]
  },
  {
   "cell_type": "code",
   "execution_count": 32,
   "id": "d5df3d1b",
   "metadata": {},
   "outputs": [
    {
     "data": {
      "text/html": [
       "<div>\n",
       "<style scoped>\n",
       "    .dataframe tbody tr th:only-of-type {\n",
       "        vertical-align: middle;\n",
       "    }\n",
       "\n",
       "    .dataframe tbody tr th {\n",
       "        vertical-align: top;\n",
       "    }\n",
       "\n",
       "    .dataframe thead th {\n",
       "        text-align: right;\n",
       "    }\n",
       "</style>\n",
       "<table border=\"1\" class=\"dataframe\">\n",
       "  <thead>\n",
       "    <tr style=\"text-align: right;\">\n",
       "      <th></th>\n",
       "      <th>H_seg_surf $[Jm^{-2}]$</th>\n",
       "      <th>H_max_surf $[Jm^{-2}]$</th>\n",
       "    </tr>\n",
       "    <tr>\n",
       "      <th>model</th>\n",
       "      <th></th>\n",
       "      <th></th>\n",
       "    </tr>\n",
       "  </thead>\n",
       "  <tbody>\n",
       "    <tr>\n",
       "      <th>OBS</th>\n",
       "      <td>2.039949e+07</td>\n",
       "      <td>1.026419e+07</td>\n",
       "    </tr>\n",
       "    <tr>\n",
       "      <th>WRF</th>\n",
       "      <td>9.009897e+06</td>\n",
       "      <td>3.552117e+05</td>\n",
       "    </tr>\n",
       "    <tr>\n",
       "      <th>AROME</th>\n",
       "      <td>1.343841e+07</td>\n",
       "      <td>1.137628e+06</td>\n",
       "    </tr>\n",
       "    <tr>\n",
       "      <th>UM</th>\n",
       "      <td>8.097105e+06</td>\n",
       "      <td>1.565349e+05</td>\n",
       "    </tr>\n",
       "    <tr>\n",
       "      <th>ICON</th>\n",
       "      <td>1.358750e+07</td>\n",
       "      <td>4.573393e+04</td>\n",
       "    </tr>\n",
       "    <tr>\n",
       "      <th>ICON2TE</th>\n",
       "      <td>1.241760e+07</td>\n",
       "      <td>3.464693e+05</td>\n",
       "    </tr>\n",
       "  </tbody>\n",
       "</table>\n",
       "</div>"
      ],
      "text/plain": [
       "         H_seg_surf $[Jm^{-2}]$  H_max_surf $[Jm^{-2}]$\n",
       "model                                                  \n",
       "OBS                2.039949e+07            1.026419e+07\n",
       "WRF                9.009897e+06            3.552117e+05\n",
       "AROME              1.343841e+07            1.137628e+06\n",
       "UM                 8.097105e+06            1.565349e+05\n",
       "ICON               1.358750e+07            4.573393e+04\n",
       "ICON2TE            1.241760e+07            3.464693e+05"
      ]
     },
     "execution_count": 32,
     "metadata": {},
     "output_type": "execute_result"
    }
   ],
   "source": [
    "# bulk valley heat deficit between Seegrube and Surface (Temperature in °C, not pot.T!, height in z)\n",
    "valley_heat_def(T_surf, T_seg, z_surf, z_seg)\n",
    "# bulk valley heat deficit between Tmax and Surface (Temperature in °C, not pot.T!, height in z)\n",
    "valley_heat_def(T_surf, T_max, z_surf, z_max)\n",
    "\n",
    "valley_heat_deficit = pd.DataFrame({'H_seg_surf $[Jm^{-2}]$': valley_heat_def(T_surf, T_seg, z_surf, z_seg),\n",
    "                                    'H_max_surf $[Jm^{-2}]$': valley_heat_def(T_surf, T_max, z_surf, z_max),\n",
    "                                    'model': model\n",
    "                                    }).set_index('model')\n",
    "valley_heat_deficit"
   ]
  },
  {
   "cell_type": "markdown",
   "id": "c85c5d0d",
   "metadata": {},
   "source": [
    "# Absolute Temperature Difference"
   ]
  },
  {
   "cell_type": "code",
   "execution_count": 43,
   "id": "003df29e",
   "metadata": {},
   "outputs": [
    {
     "data": {
      "text/plain": [
       "array([[0.        ],\n",
       "       [3.61820985],\n",
       "       [3.1255951 ],\n",
       "       [4.68955995],\n",
       "       [5.40852357],\n",
       "       [5.00138856]])"
      ]
     },
     "execution_count": 43,
     "metadata": {},
     "output_type": "execute_result"
    }
   ],
   "source": [
    "th_max[0]- th_max\n",
    "#T_surf"
   ]
  },
  {
   "cell_type": "code",
   "execution_count": 44,
   "id": "6efb0cff",
   "metadata": {},
   "outputs": [
    {
     "data": {
      "text/html": [
       "<div>\n",
       "<style scoped>\n",
       "    .dataframe tbody tr th:only-of-type {\n",
       "        vertical-align: middle;\n",
       "    }\n",
       "\n",
       "    .dataframe tbody tr th {\n",
       "        vertical-align: top;\n",
       "    }\n",
       "\n",
       "    .dataframe thead th {\n",
       "        text-align: right;\n",
       "    }\n",
       "</style>\n",
       "<table border=\"1\" class=\"dataframe\">\n",
       "  <thead>\n",
       "    <tr style=\"text-align: right;\">\n",
       "      <th></th>\n",
       "      <th>abs. T diff. seg-surf $[°C]$</th>\n",
       "      <th>abs. T diff. Tmax-surf $[°C]$</th>\n",
       "      <th>abs. theta diff. seg-surf $[K]$</th>\n",
       "      <th>abs. theta diff. Tmax-surf $[K]$</th>\n",
       "    </tr>\n",
       "    <tr>\n",
       "      <th>model</th>\n",
       "      <th></th>\n",
       "      <th></th>\n",
       "      <th></th>\n",
       "      <th></th>\n",
       "    </tr>\n",
       "  </thead>\n",
       "  <tbody>\n",
       "    <tr>\n",
       "      <th>OBS</th>\n",
       "      <td>3.240000</td>\n",
       "      <td>7.383429</td>\n",
       "      <td>22.304748</td>\n",
       "      <td>17.457682</td>\n",
       "    </tr>\n",
       "    <tr>\n",
       "      <th>WRF</th>\n",
       "      <td>-7.651855</td>\n",
       "      <td>1.463531</td>\n",
       "      <td>10.888916</td>\n",
       "      <td>3.272491</td>\n",
       "    </tr>\n",
       "    <tr>\n",
       "      <th>AROME</th>\n",
       "      <td>-2.667206</td>\n",
       "      <td>4.280914</td>\n",
       "      <td>15.755127</td>\n",
       "      <td>7.035645</td>\n",
       "    </tr>\n",
       "    <tr>\n",
       "      <th>UM</th>\n",
       "      <td>-8.359955</td>\n",
       "      <td>0.488007</td>\n",
       "      <td>10.071899</td>\n",
       "      <td>1.875000</td>\n",
       "    </tr>\n",
       "    <tr>\n",
       "      <th>ICON</th>\n",
       "      <td>-5.482727</td>\n",
       "      <td>3.457886</td>\n",
       "      <td>13.204163</td>\n",
       "      <td>3.707672</td>\n",
       "    </tr>\n",
       "    <tr>\n",
       "      <th>ICON2TE</th>\n",
       "      <td>-6.592743</td>\n",
       "      <td>1.037567</td>\n",
       "      <td>12.109375</td>\n",
       "      <td>3.014496</td>\n",
       "    </tr>\n",
       "  </tbody>\n",
       "</table>\n",
       "</div>"
      ],
      "text/plain": [
       "         abs. T diff. seg-surf $[°C]$  abs. T diff. Tmax-surf $[°C]$  \\\n",
       "model                                                                  \n",
       "OBS                          3.240000                       7.383429   \n",
       "WRF                         -7.651855                       1.463531   \n",
       "AROME                       -2.667206                       4.280914   \n",
       "UM                          -8.359955                       0.488007   \n",
       "ICON                        -5.482727                       3.457886   \n",
       "ICON2TE                     -6.592743                       1.037567   \n",
       "\n",
       "         abs. theta diff. seg-surf $[K]$  abs. theta diff. Tmax-surf $[K]$  \n",
       "model                                                                       \n",
       "OBS                            22.304748                         17.457682  \n",
       "WRF                            10.888916                          3.272491  \n",
       "AROME                          15.755127                          7.035645  \n",
       "UM                             10.071899                          1.875000  \n",
       "ICON                           13.204163                          3.707672  \n",
       "ICON2TE                        12.109375                          3.014496  "
      ]
     },
     "execution_count": 44,
     "metadata": {},
     "output_type": "execute_result"
    }
   ],
   "source": [
    "absolute_T_differcences = pd.DataFrame({'abs. T diff. seg-surf $[°C]$': T_seg - T_surf,\n",
    "                                        'abs. T diff. Tmax-surf $[°C]$': T_max - T_surf,\n",
    "                                        'abs. theta diff. seg-surf $[K]$': (th_seg - th_surf).T.flatten(),\n",
    "                                        'abs. theta diff. Tmax-surf $[K]$': (th_max - th_surf).T.flatten(),\n",
    "                                        'model': model\n",
    "                                       }).set_index('model')\n",
    "absolute_T_differcences\n"
   ]
  },
  {
   "cell_type": "code",
   "execution_count": 45,
   "id": "cf26d71b",
   "metadata": {},
   "outputs": [
    {
     "data": {
      "image/png": "[encoded data removed]",
      "text/plain": [
       "<Figure size 1000x300 with 2 Axes>"
      ]
     },
     "metadata": {},
     "output_type": "display_data"
    }
   ],
   "source": [
    "f, ax = plt.subplots(1, 2, sharex='col', sharey='row', figsize=(10,3))\n",
    "ax[0].stem(model, T_seg - T_surf, 'k', markerfmt='ko', basefmt='b',\n",
    "              label=r'T$_{haf} - T_{surf}$', orientation='horizontal')\n",
    "ax[1].stem(model, T_max - T_surf, 'k', markerfmt='ko', basefmt='b',\n",
    "              label=r'T$_{max} - T_{surf}$', orientation='horizontal')\n",
    "\n",
    "\n",
    "# for i in range(2):\n",
    "for i in range(2):\n",
    "    ax[i].set_xlabel('$\\Delta T$ (°C)')\n",
    "    plt.setp(ax[i].get_xticklabels(), rotation=30, horizontalalignment='right') #rotate x_labels\n",
    "    #ax[i].grid()\n",
    "    ax[i].legend(loc=7)\n",
    "    #ax[i].set_yscale('log')\n",
    "\n",
    "ax[0].text(3, 4.7, 'a)')\n",
    "ax[1].text(7.3, 4.7, 'b)')\n",
    "\n",
    "plt.tight_layout() #stop figures from overlapping \n",
    "plt.savefig(\"D:/plots/results/T_diff.svg\")"
   ]
  },
  {
   "cell_type": "code",
   "execution_count": 46,
   "id": "80da6ae3",
   "metadata": {},
   "outputs": [
    {
     "data": {
      "image/png": "[encoded data removed]",
      "text/plain": [
       "<Figure size 1000x300 with 2 Axes>"
      ]
     },
     "metadata": {},
     "output_type": "display_data"
    }
   ],
   "source": [
    "f, ax = plt.subplots(1, 2, sharex='col', sharey='row', figsize=(10,3))\n",
    "ax[0].stem(model, (th_seg - th_surf).T.flatten() / (z_seg - z_surf), 'k', markerfmt='ko', basefmt='b',\n",
    "              label=r'$\\frac{\\theta_{haf} - \\theta_{surf}}{z_{haf} - z_{surf}}$', orientation='horizontal')\n",
    "ax[1].stem(model, (th_max - th_surf).T.flatten() / (z_max - z_surf), 'k', markerfmt='ko', basefmt='b',\n",
    "              label=r'$\\frac{\\theta_{max} - \\theta_{surf}}{z_{max} - z_{surf}}$', orientation='horizontal')\n",
    "\n",
    "ax[0].set_xlabel(r'$\\frac{\\Delta \\theta}{\\Delta z}_1$ (K m$^{-1}$)')\n",
    "ax[1].set_xlabel(r'$\\frac{\\Delta \\theta}{\\Delta z}_2$ (K m$^{-1}$)')\n",
    "\n",
    "for i in range(2):\n",
    "    plt.setp(ax[i].get_xticklabels(), rotation=30, horizontalalignment='right') #rotate x_labels\n",
    "    ax[i].legend(loc=7, fontsize=\"11\")\n",
    "\n",
    "ax[0].text(0.013, 4.7, 'a)')\n",
    "ax[1].text(.1779, 4.7, 'b)')\n",
    "\n",
    "plt.tight_layout() #stop figures from overlapping \n",
    "plt.savefig(\"D:/plots/results/th_diff.svg\")"
   ]
  },
  {
   "cell_type": "markdown",
   "id": "6d372348",
   "metadata": {},
   "source": [
    "## Different Plots"
   ]
  },
  {
   "cell_type": "code",
   "execution_count": 49,
   "id": "5e5a41bb",
   "metadata": {},
   "outputs": [
    {
     "data": {
      "image/png": "[encoded data removed]",
      "text/plain": [
       "<Figure size 640x480 with 1 Axes>"
      ]
     },
     "metadata": {},
     "output_type": "display_data"
    }
   ],
   "source": [
    "fig = plt.figure()\n",
    "plt.plot(np.convolve(np.ones(35)/35, df_obs[\"temperature\"].values, 'same')[::-1],df_obs.height[::-1], color=colordict[\"RADIOSONDE\"], label=\"Observation\", linewidth=2)\n",
    "plt.plot(df_wrf_acinn[\"temperature\"].values, pressure_to_height_std(df_wrf_acinn[\"pressure\"].values *units('hPa'))* 1000,color=colordict[\"WRF_ACINN\"], label=\"WRF-ACINN\",linewidth=2)\n",
    "plt.plot(df_arome[\"temperature\"].values, pressure_to_height_std(df_arome[\"pressure\"].values *units('hPa'))* 1000, color=colordict[\"AROME\"], label=\"AROME\", linewidth=2)\n",
    "plt.plot(data_ukmo[\"temperature\"].values[::-1], pressure_to_height_std(data_ukmo[\"pressure\"].values[::-1] *units('hPa'))* 1000, color=colordict[\"UKMO\"],label=\"UM\", linewidth=2)\n",
    "plt.plot(df_icon[\"temp\"].values-273.15, pressure_to_height_std(df_icon[\"pressure\"].values *units('hPa'))* 1000, color=colordict[\"ICON\"], label=\"ICON\", linewidth=2)\n",
    "plt.plot(df_icon2TE[\"temp\"].values-273.15, pressure_to_height_std(df_icon2TE[\"pressure\"].values *units('hPa'))* 1000, color='m', label=\"ICON2TE\", linewidth=2)\n",
    "\n",
    "plt.title(f\"Temperature\")\n",
    "plt.xlabel('Temperature (°C)')\n",
    "plt.ylabel('height (m)')\n",
    "#plt.yscale('log')\n",
    "\n",
    "\n",
    "plt.legend();"
   ]
  },
  {
   "cell_type": "code",
   "execution_count": 50,
   "id": "199b4afe",
   "metadata": {},
   "outputs": [
    {
     "data": {
      "image/png": "[encoded data removed]",
      "text/plain": [
       "<Figure size 640x480 with 1 Axes>"
      ]
     },
     "metadata": {},
     "output_type": "display_data"
    }
   ],
   "source": [
    "fig = plt.figure()\n",
    "plt.plot(np.convolve(np.ones(35)/35, df_obs[\"temperature\"].values, 'same')[::-1],df_obs[\"pressure\"].values[::-1], color=colordict[\"RADIOSONDE\"], label=\"Observation\", linewidth=2)\n",
    "plt.plot(df_wrf_acinn[\"temperature\"].values, df_wrf_acinn[\"pressure\"].values,color=colordict[\"WRF_ACINN\"], label=\"WRF-ACINN\",linewidth=2)\n",
    "plt.plot(df_arome[\"temperature\"].values, df_arome[\"pressure\"].values, color=colordict[\"AROME\"], label=\"AROME\", linewidth=2)\n",
    "plt.plot(data_ukmo[\"temperature\"].values[::-1], data_ukmo[\"pressure\"].values[::-1], color=colordict[\"UKMO\"],label=\"UM\", linewidth=2)\n",
    "plt.plot(df_icon[\"temp\"].values-273.15, df_icon[\"pressure\"].values, color=colordict[\"ICON\"], label=\"ICON\", linewidth=2)\n",
    "plt.plot(df_icon2TE[\"temp\"].values-273.15, df_icon2TE[\"pressure\"].values, color='m', label=\"ICON2TE\", linewidth=2)\n",
    "\n",
    "plt.title(\n",
    "    f\"Temperatures\")\n",
    "plt.gca().invert_yaxis()\n",
    "plt.xlabel('Temperature (°C)')\n",
    "plt.ylabel('pressure p (hPa)')\n",
    "\n",
    "plt.legend();"
   ]
  },
  {
   "cell_type": "code",
   "execution_count": null,
   "id": "0270f934",
   "metadata": {},
   "outputs": [],
   "source": []
  }
 ],
 "metadata": {
  "kernelspec": {
   "display_name": "Python 3 (ipykernel)",
   "language": "python",
   "name": "python3"
  },
  "language_info": {
   "codemirror_mode": {
    "name": "ipython",
    "version": 3
   },
   "file_extension": ".py",
   "mimetype": "text/x-python",
   "name": "python",
   "nbconvert_exporter": "python",
   "pygments_lexer": "ipython3",
   "version": "3.11.11"
  }
 },
 "nbformat": 4,
 "nbformat_minor": 5
}
