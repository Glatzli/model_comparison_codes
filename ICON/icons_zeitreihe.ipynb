{
 "cells": [
  {
   "cell_type": "code",
   "execution_count": 2,
   "id": "bd85a2b3",
   "metadata": {},
   "outputs": [],
   "source": [
    "import sys\n",
    "sys.path.append(\"D:/MSc_Arbeit/model_comparison_codes\")\n",
    "import read_icon_model_3D\n",
    "#%run ../ICON/read_icon_model_3D.ipynb\n",
    "#%run ../ICON/read_icon2TE_model_3D.ipynb\n",
    "\n",
    "#%run D:/codes/icon/read_icon_model_3D.ipynb\n",
    "#%run D:/codes/icon/read_icon2TE_model_3D.ipynb"
   ]
  },
  {
   "cell_type": "code",
   "execution_count": 5,
   "id": "83dd55a0-e2c3-4fee-a522-51a9bc26f735",
   "metadata": {},
   "outputs": [],
   "source": [
    "import matplotlib.pyplot as plt\n",
    "import pandas as pd\n",
    "import numpy as np"
   ]
  },
  {
   "cell_type": "code",
   "execution_count": 6,
   "id": "db12f3eb",
   "metadata": {},
   "outputs": [
    {
     "ename": "NameError",
     "evalue": "name 'read_icon_fixed_point_and_time' is not defined",
     "output_type": "error",
     "traceback": [
      "\u001b[31m---------------------------------------------------------------------------\u001b[39m",
      "\u001b[31mNameError\u001b[39m                                 Traceback (most recent call last)",
      "\u001b[36mCell\u001b[39m\u001b[36m \u001b[39m\u001b[32mIn[6]\u001b[39m\u001b[32m, line 6\u001b[39m\n\u001b[32m      2\u001b[39m day2 = np.zeros(\u001b[32m12\u001b[39m)\n\u001b[32m      4\u001b[39m \u001b[38;5;28;01mfor\u001b[39;00m i, j \u001b[38;5;129;01min\u001b[39;00m \u001b[38;5;28menumerate\u001b[39m([\u001b[32m12\u001b[39m, \u001b[32m13\u001b[39m, \u001b[32m14\u001b[39m, \u001b[32m15\u001b[39m, \u001b[32m16\u001b[39m, \u001b[32m17\u001b[39m, \u001b[32m18\u001b[39m, \u001b[32m19\u001b[39m, \u001b[32m20\u001b[39m, \u001b[32m21\u001b[39m, \u001b[32m22\u001b[39m, \u001b[32m23\u001b[39m]):\n\u001b[32m      5\u001b[39m     \u001b[38;5;66;03m# cosma runs read in function a dozen times to read in icon values. couldn't I use the other func?\u001b[39;00m\n\u001b[32m----> \u001b[39m\u001b[32m6\u001b[39m     result = \u001b[43mread_icon_fixed_point_and_time\u001b[49m(day=\u001b[32m15\u001b[39m, hour=j, my_lon=\u001b[32m11.4011756\u001b[39m, my_lat=\u001b[32m47.266076\u001b[39m, variant=\u001b[33m\"\u001b[39m\u001b[33mICON\u001b[39m\u001b[33m\"\u001b[39m)\n\u001b[32m      7\u001b[39m     numeric_value = result.temperature.values[\u001b[32m87\u001b[39m]  \u001b[38;5;66;03m# for what height does 87 stand? \u001b[39;00m\n\u001b[32m      8\u001b[39m     day1[i] = numeric_value\n",
      "\u001b[31mNameError\u001b[39m: name 'read_icon_fixed_point_and_time' is not defined"
     ]
    }
   ],
   "source": [
    "day1 = np.zeros(12)\n",
    "day2 = np.zeros(12)\n",
    "\n",
    "for i, j in enumerate([12, 13, 14, 15, 16, 17, 18, 19, 20, 21, 22, 23]):\n",
    "    # cosma runs read in function a dozen times to read in icon values. couldn't I use the other func?\n",
    "    result = read_icon_fixed_point_and_time(day=15, hour=j, my_lon=11.4011756, my_lat=47.266076, variant=\"ICON\")\n",
    "    numeric_value = result.temperature.values[87]  # for what height does 87 stand? \n",
    "    day1[i] = numeric_value\n",
    "\n",
    "for i, j in enumerate([0,1,2,3,4,5,6,7,8,9,10,11]):\n",
    "    result = read_icon_fixed_point_and_time(day=16, hour=j, my_lon=11.4011756, my_lat=47.266076, variant=\"ICON\")\n",
    "    numeric_value = result.temperature.values[87]\n",
    "    day2[i] = numeric_value"
   ]
  },
  {
   "cell_type": "code",
   "execution_count": 49,
   "id": "f68fcc13-1589-4a35-9b29-ee654efb3cc8",
   "metadata": {},
   "outputs": [
    {
     "data": {
      "text/plain": [
       "[<matplotlib.lines.Line2D at 0x2229e75cb10>]"
      ]
     },
     "execution_count": 49,
     "metadata": {},
     "output_type": "execute_result"
    },
    {
     "data": {
      "image/png": "[encoded data removed]",
      "text/plain": [
       "<Figure size 640x480 with 1 Axes>"
      ]
     },
     "metadata": {},
     "output_type": "display_data"
    }
   ],
   "source": [
    "icon = np.concatenate([day1, day2])\n",
    "datetime_range = pd.date_range(start='2017-10-15 12:00', end='2017-10-16 11:00', freq='h')\n",
    "plt.plot(datetime_range, icon)"
   ]
  },
  {
   "cell_type": "code",
   "execution_count": 72,
   "id": "d7ff81e9-1516-4bc3-ae80-b8a46ca3b5fc",
   "metadata": {},
   "outputs": [
    {
     "ename": "TypeError",
     "evalue": "read_icon_fixed_point() got an unexpected keyword argument 'my_lon'",
     "output_type": "error",
     "traceback": [
      "\u001b[31m---------------------------------------------------------------------------\u001b[39m",
      "\u001b[31mTypeError\u001b[39m                                 Traceback (most recent call last)",
      "\u001b[36mCell\u001b[39m\u001b[36m \u001b[39m\u001b[32mIn[72]\u001b[39m\u001b[32m, line 5\u001b[39m\n\u001b[32m      1\u001b[39m \u001b[38;5;66;03m# my change\u001b[39;00m\n\u001b[32m      2\u001b[39m \u001b[38;5;66;03m#   # hours which should be extracted from dataset\u001b[39;00m\n\u001b[32m      3\u001b[39m \n\u001b[32m      4\u001b[39m \u001b[38;5;66;03m# Call function once for all hours\u001b[39;00m\n\u001b[32m----> \u001b[39m\u001b[32m5\u001b[39m icon = \u001b[43mread_icon_fixed_point\u001b[49m\u001b[43m(\u001b[49m\u001b[43mday\u001b[49m\u001b[43m=\u001b[49m\u001b[32;43m15\u001b[39;49m\u001b[43m,\u001b[49m\u001b[43m \u001b[49m\u001b[43mmy_lon\u001b[49m\u001b[43m=\u001b[49m\u001b[32;43m11.4011756\u001b[39;49m\u001b[43m,\u001b[49m\u001b[43m \u001b[49m\u001b[43mmy_lat\u001b[49m\u001b[43m=\u001b[49m\u001b[32;43m47.266076\u001b[39;49m\u001b[43m,\u001b[49m\u001b[43m \u001b[49m\u001b[43mvariant\u001b[49m\u001b[43m=\u001b[49m\u001b[33;43m\"\u001b[39;49m\u001b[33;43mICON\u001b[39;49m\u001b[33;43m\"\u001b[39;49m\u001b[43m)\u001b[49m\n\u001b[32m      6\u001b[39m \u001b[38;5;66;03m# day1 = result.temperature.values[:, 87]\u001b[39;00m\n",
      "\u001b[31mTypeError\u001b[39m: read_icon_fixed_point() got an unexpected keyword argument 'my_lon'"
     ]
    }
   ],
   "source": [
    "# my change\n",
    "#   # hours which should be extracted from dataset\n",
    "\n",
    "# Call function once for all hours\n",
    "icon = read_icon_fixed_point(day=15, my_lon=11.4011756, my_lat=47.266076, variant=\"ICON\")\n",
    "# day1 = result.temperature.values[:, 87]"
   ]
  },
  {
   "cell_type": "code",
   "execution_count": 64,
   "id": "1e48e4ac-3b82-40c8-9963-3d11c12dd204",
   "metadata": {},
   "outputs": [
    {
     "data": {
      "text/plain": [
       "array([12, 13, 14, 15, 16, 17, 18, 19, 20, 21, 22, 23])"
      ]
     },
     "execution_count": 64,
     "metadata": {},
     "output_type": "execute_result"
    }
   ],
   "source": [
    "hours"
   ]
  },
  {
   "cell_type": "code",
   "execution_count": 69,
   "id": "cbad1c58-c023-488b-97a1-6c0b8514fbdd",
   "metadata": {},
   "outputs": [
    {
     "ename": "KeyError",
     "evalue": "\"'hour' is not a valid dimension or coordinate for Dataset with dimensions FrozenMappingWarningOnValuesAccess({'vertices': 3, 'ncells_2': 1344922, 'vertices_2': 4, 'height': 90, 'bnds': 2, 'height_2': 91, 'height_3': 91, 'height_4': 1, 'height_5': 1, 'depth': 9, 'depth_2': 8, 'dim_0': 90})\"",
     "output_type": "error",
     "traceback": [
      "\u001b[31m---------------------------------------------------------------------------\u001b[39m",
      "\u001b[31mKeyError\u001b[39m                                  Traceback (most recent call last)",
      "\u001b[36mCell\u001b[39m\u001b[36m \u001b[39m\u001b[32mIn[69]\u001b[39m\u001b[32m, line 2\u001b[39m\n\u001b[32m      1\u001b[39m hours = np.arange(\u001b[32m12\u001b[39m, \u001b[32m24\u001b[39m)\n\u001b[32m----> \u001b[39m\u001b[32m2\u001b[39m \u001b[43micon\u001b[49m\u001b[43m.\u001b[49m\u001b[43msel\u001b[49m\u001b[43m(\u001b[49m\u001b[43mhour\u001b[49m\u001b[43m \u001b[49m\u001b[43m=\u001b[49m\u001b[43m \u001b[49m\u001b[38;5;28;43mslice\u001b[39;49m\u001b[43m(\u001b[49m\u001b[32;43m12\u001b[39;49m\u001b[43m,\u001b[49m\u001b[43m \u001b[49m\u001b[32;43m24\u001b[39;49m\u001b[43m)\u001b[49m\u001b[43m,\u001b[49m\u001b[43m \u001b[49m\u001b[43mheight\u001b[49m\u001b[43m \u001b[49m\u001b[43m=\u001b[49m\u001b[43m \u001b[49m\u001b[32;43m87\u001b[39;49m\u001b[43m)\u001b[49m\n",
      "\u001b[36mFile \u001b[39m\u001b[32m~\\.conda\\envs\\msc\\Lib\\site-packages\\xarray\\core\\dataset.py:3249\u001b[39m, in \u001b[36mDataset.sel\u001b[39m\u001b[34m(self, indexers, method, tolerance, drop, **indexers_kwargs)\u001b[39m\n\u001b[32m   3181\u001b[39m \u001b[38;5;250m\u001b[39m\u001b[33;03m\"\"\"Returns a new dataset with each array indexed by tick labels\u001b[39;00m\n\u001b[32m   3182\u001b[39m \u001b[33;03malong the specified dimension(s).\u001b[39;00m\n\u001b[32m   3183\u001b[39m \n\u001b[32m   (...)\u001b[39m\u001b[32m   3246\u001b[39m \n\u001b[32m   3247\u001b[39m \u001b[33;03m\"\"\"\u001b[39;00m\n\u001b[32m   3248\u001b[39m indexers = either_dict_or_kwargs(indexers, indexers_kwargs, \u001b[33m\"\u001b[39m\u001b[33msel\u001b[39m\u001b[33m\"\u001b[39m)\n\u001b[32m-> \u001b[39m\u001b[32m3249\u001b[39m query_results = \u001b[43mmap_index_queries\u001b[49m\u001b[43m(\u001b[49m\n\u001b[32m   3250\u001b[39m \u001b[43m    \u001b[49m\u001b[38;5;28;43mself\u001b[39;49m\u001b[43m,\u001b[49m\u001b[43m \u001b[49m\u001b[43mindexers\u001b[49m\u001b[43m=\u001b[49m\u001b[43mindexers\u001b[49m\u001b[43m,\u001b[49m\u001b[43m \u001b[49m\u001b[43mmethod\u001b[49m\u001b[43m=\u001b[49m\u001b[43mmethod\u001b[49m\u001b[43m,\u001b[49m\u001b[43m \u001b[49m\u001b[43mtolerance\u001b[49m\u001b[43m=\u001b[49m\u001b[43mtolerance\u001b[49m\n\u001b[32m   3251\u001b[39m \u001b[43m\u001b[49m\u001b[43m)\u001b[49m\n\u001b[32m   3253\u001b[39m \u001b[38;5;28;01mif\u001b[39;00m drop:\n\u001b[32m   3254\u001b[39m     no_scalar_variables = {}\n",
      "\u001b[36mFile \u001b[39m\u001b[32m~\\.conda\\envs\\msc\\Lib\\site-packages\\xarray\\core\\indexing.py:187\u001b[39m, in \u001b[36mmap_index_queries\u001b[39m\u001b[34m(obj, indexers, method, tolerance, **indexers_kwargs)\u001b[39m\n\u001b[32m    184\u001b[39m     options = {\u001b[33m\"\u001b[39m\u001b[33mmethod\u001b[39m\u001b[33m\"\u001b[39m: method, \u001b[33m\"\u001b[39m\u001b[33mtolerance\u001b[39m\u001b[33m\"\u001b[39m: tolerance}\n\u001b[32m    186\u001b[39m indexers = either_dict_or_kwargs(indexers, indexers_kwargs, \u001b[33m\"\u001b[39m\u001b[33mmap_index_queries\u001b[39m\u001b[33m\"\u001b[39m)\n\u001b[32m--> \u001b[39m\u001b[32m187\u001b[39m grouped_indexers = \u001b[43mgroup_indexers_by_index\u001b[49m\u001b[43m(\u001b[49m\u001b[43mobj\u001b[49m\u001b[43m,\u001b[49m\u001b[43m \u001b[49m\u001b[43mindexers\u001b[49m\u001b[43m,\u001b[49m\u001b[43m \u001b[49m\u001b[43moptions\u001b[49m\u001b[43m)\u001b[49m\n\u001b[32m    189\u001b[39m results = []\n\u001b[32m    190\u001b[39m \u001b[38;5;28;01mfor\u001b[39;00m index, labels \u001b[38;5;129;01min\u001b[39;00m grouped_indexers:\n",
      "\u001b[36mFile \u001b[39m\u001b[32m~\\.conda\\envs\\msc\\Lib\\site-packages\\xarray\\core\\indexing.py:148\u001b[39m, in \u001b[36mgroup_indexers_by_index\u001b[39m\u001b[34m(obj, indexers, options)\u001b[39m\n\u001b[32m    146\u001b[39m     \u001b[38;5;28;01mraise\u001b[39;00m \u001b[38;5;167;01mKeyError\u001b[39;00m(\u001b[33mf\u001b[39m\u001b[33m\"\u001b[39m\u001b[33mno index found for coordinate \u001b[39m\u001b[38;5;132;01m{\u001b[39;00mkey\u001b[38;5;132;01m!r}\u001b[39;00m\u001b[33m\"\u001b[39m)\n\u001b[32m    147\u001b[39m \u001b[38;5;28;01melif\u001b[39;00m key \u001b[38;5;129;01mnot\u001b[39;00m \u001b[38;5;129;01min\u001b[39;00m obj.dims:\n\u001b[32m--> \u001b[39m\u001b[32m148\u001b[39m     \u001b[38;5;28;01mraise\u001b[39;00m \u001b[38;5;167;01mKeyError\u001b[39;00m(\n\u001b[32m    149\u001b[39m         \u001b[33mf\u001b[39m\u001b[33m\"\u001b[39m\u001b[38;5;132;01m{\u001b[39;00mkey\u001b[38;5;132;01m!r}\u001b[39;00m\u001b[33m is not a valid dimension or coordinate for \u001b[39m\u001b[33m\"\u001b[39m\n\u001b[32m    150\u001b[39m         \u001b[33mf\u001b[39m\u001b[33m\"\u001b[39m\u001b[38;5;132;01m{\u001b[39;00mobj.\u001b[34m__class__\u001b[39m.\u001b[34m__name__\u001b[39m\u001b[38;5;132;01m}\u001b[39;00m\u001b[33m with dimensions \u001b[39m\u001b[38;5;132;01m{\u001b[39;00mobj.dims\u001b[38;5;132;01m!r}\u001b[39;00m\u001b[33m\"\u001b[39m\n\u001b[32m    151\u001b[39m     )\n\u001b[32m    152\u001b[39m \u001b[38;5;28;01melif\u001b[39;00m \u001b[38;5;28mlen\u001b[39m(options):\n\u001b[32m    153\u001b[39m     \u001b[38;5;28;01mraise\u001b[39;00m \u001b[38;5;167;01mValueError\u001b[39;00m(\n\u001b[32m    154\u001b[39m         \u001b[33mf\u001b[39m\u001b[33m\"\u001b[39m\u001b[33mcannot supply selection options \u001b[39m\u001b[38;5;132;01m{\u001b[39;00moptions\u001b[38;5;132;01m!r}\u001b[39;00m\u001b[33m for dimension \u001b[39m\u001b[38;5;132;01m{\u001b[39;00mkey\u001b[38;5;132;01m!r}\u001b[39;00m\u001b[33m\"\u001b[39m\n\u001b[32m    155\u001b[39m         \u001b[33m\"\u001b[39m\u001b[33mthat has no associated coordinate or index\u001b[39m\u001b[33m\"\u001b[39m\n\u001b[32m    156\u001b[39m     )\n",
      "\u001b[31mKeyError\u001b[39m: \"'hour' is not a valid dimension or coordinate for Dataset with dimensions FrozenMappingWarningOnValuesAccess({'vertices': 3, 'ncells_2': 1344922, 'vertices_2': 4, 'height': 90, 'bnds': 2, 'height_2': 91, 'height_3': 91, 'height_4': 1, 'height_5': 1, 'depth': 9, 'depth_2': 8, 'dim_0': 90})\""
     ]
    }
   ],
   "source": [
    "hours = np.arange(12, 24)\n",
    "icon.sel(hour = slice(12, 24), height = 87)\n"
   ]
  },
  {
   "cell_type": "code",
   "execution_count": 45,
   "id": "9babda2f",
   "metadata": {},
   "outputs": [],
   "source": []
  },
  {
   "cell_type": "code",
   "execution_count": 46,
   "id": "73a9381a-4e62-44f9-bf11-57e2ff3d2da7",
   "metadata": {},
   "outputs": [
    {
     "data": {
      "text/plain": [
       "array([22.04803467, 22.77600098, 23.0128479 , 22.05419922, 20.92266846,\n",
       "       19.90353394, 18.87930298, 18.2911377 , 17.5899353 , 17.42630005,\n",
       "       17.82296753, 16.96484375, 16.79858398, 16.93200684, 16.81091309,\n",
       "       16.40896606, 16.4850769 , 16.34475708, 15.76870728, 14.86135864,\n",
       "       15.86193848, 17.8086853 , 19.60665894, 21.0730896 ])"
      ]
     },
     "execution_count": 46,
     "metadata": {},
     "output_type": "execute_result"
    }
   ],
   "source": [
    "icon"
   ]
  },
  {
   "cell_type": "markdown",
   "id": "c3c94680",
   "metadata": {},
   "source": [
    "# ICON2TE"
   ]
  },
  {
   "cell_type": "code",
   "execution_count": 8,
   "id": "8bdd9a4a",
   "metadata": {},
   "outputs": [
    {
     "ename": "NameError",
     "evalue": "name 'read_icon_fixed_point_and_time' is not defined",
     "output_type": "error",
     "traceback": [
      "\u001b[31m---------------------------------------------------------------------------\u001b[39m",
      "\u001b[31mNameError\u001b[39m                                 Traceback (most recent call last)",
      "\u001b[36mCell\u001b[39m\u001b[36m \u001b[39m\u001b[32mIn[8]\u001b[39m\u001b[32m, line 5\u001b[39m\n\u001b[32m      2\u001b[39m day2 = np.zeros(\u001b[32m12\u001b[39m)\n\u001b[32m      4\u001b[39m \u001b[38;5;28;01mfor\u001b[39;00m i, j \u001b[38;5;129;01min\u001b[39;00m \u001b[38;5;28menumerate\u001b[39m([\u001b[32m12\u001b[39m, \u001b[32m13\u001b[39m, \u001b[32m14\u001b[39m, \u001b[32m15\u001b[39m, \u001b[32m16\u001b[39m, \u001b[32m17\u001b[39m, \u001b[32m18\u001b[39m, \u001b[32m19\u001b[39m, \u001b[32m20\u001b[39m, \u001b[32m21\u001b[39m, \u001b[32m22\u001b[39m, \u001b[32m23\u001b[39m]):\n\u001b[32m----> \u001b[39m\u001b[32m5\u001b[39m     result = \u001b[43mread_icon_fixed_point_and_time\u001b[49m(day=\u001b[32m15\u001b[39m, hour=j, my_lon=\u001b[32m11.4011756\u001b[39m, my_lat=\u001b[32m47.266076\u001b[39m, variant=\u001b[33m\"\u001b[39m\u001b[33mICON2TE\u001b[39m\u001b[33m\"\u001b[39m)\n\u001b[32m      6\u001b[39m     numeric_value = result.temperature.values[\u001b[32m80\u001b[39m]\n\u001b[32m      7\u001b[39m     day1[i] = numeric_value\n",
      "\u001b[31mNameError\u001b[39m: name 'read_icon_fixed_point_and_time' is not defined"
     ]
    }
   ],
   "source": [
    "day1 = np.zeros(12)\n",
    "day2 = np.zeros(12)\n",
    "\n",
    "for i, j in enumerate([12, 13, 14, 15, 16, 17, 18, 19, 20, 21, 22, 23]):\n",
    "    result = read_icon_fixed_point_and_time(day=15, hour=j, my_lon=11.4011756, my_lat=47.266076, variant=\"ICON2TE\")\n",
    "    numeric_value = result.temperature.values[80]\n",
    "    day1[i] = numeric_value\n",
    "\n",
    "for i, j in enumerate([0,1,2,3,4,5,6,7,8,9,10,11]):\n",
    "    result = read_icon_fixed_point_and_time(day=16, hour=j, my_lon=11.4011756, my_lat=47.266076, variant=\"ICON2TE\")\n",
    "    numeric_value = result.temperature.values[80]\n",
    "    day2[i] = numeric_value\n"
   ]
  },
  {
   "cell_type": "code",
   "execution_count": 9,
   "id": "518c0f34",
   "metadata": {},
   "outputs": [],
   "source": [
    "day1 = np.array(day1)\n",
    "day2 = np.array(day2)\n",
    "icon2TE = np.concatenate([day1, day2])"
   ]
  },
  {
   "cell_type": "markdown",
   "id": "9da5095d-083b-4e11-a289-ae4d24f8c408",
   "metadata": {},
   "source": [
    "datetime_range = pd.date_range(start='2017-10-15 12:00', end='2017-10-16 11:00', freq='H')\n",
    "plt.plot(datetime_range, icon2TE)\n",
    "plt.plot(datetime_range, icon)"
   ]
  },
  {
   "cell_type": "markdown",
   "id": "39e8c500",
   "metadata": {},
   "source": [
    "# Hafelekar"
   ]
  },
  {
   "cell_type": "code",
   "execution_count": 10,
   "id": "d2971b44",
   "metadata": {},
   "outputs": [
    {
     "ename": "NameError",
     "evalue": "name 'read_icon_fixed_point_and_time' is not defined",
     "output_type": "error",
     "traceback": [
      "\u001b[31m---------------------------------------------------------------------------\u001b[39m",
      "\u001b[31mNameError\u001b[39m                                 Traceback (most recent call last)",
      "\u001b[36mCell\u001b[39m\u001b[36m \u001b[39m\u001b[32mIn[10]\u001b[39m\u001b[32m, line 5\u001b[39m\n\u001b[32m      2\u001b[39m day2 = np.zeros(\u001b[32m12\u001b[39m)\n\u001b[32m      4\u001b[39m \u001b[38;5;28;01mfor\u001b[39;00m i, j \u001b[38;5;129;01min\u001b[39;00m \u001b[38;5;28menumerate\u001b[39m([\u001b[32m12\u001b[39m, \u001b[32m13\u001b[39m, \u001b[32m14\u001b[39m, \u001b[32m15\u001b[39m, \u001b[32m16\u001b[39m, \u001b[32m17\u001b[39m, \u001b[32m18\u001b[39m, \u001b[32m19\u001b[39m, \u001b[32m20\u001b[39m, \u001b[32m21\u001b[39m, \u001b[32m22\u001b[39m, \u001b[32m23\u001b[39m]):\n\u001b[32m----> \u001b[39m\u001b[32m5\u001b[39m     result = \u001b[43mread_icon_fixed_point_and_time\u001b[49m(day=\u001b[32m15\u001b[39m, hour=j, my_lon=\u001b[32m11.4011756\u001b[39m, my_lat=\u001b[32m47.266076\u001b[39m, variant=\u001b[33m\"\u001b[39m\u001b[33mICON\u001b[39m\u001b[33m\"\u001b[39m)\n\u001b[32m      6\u001b[39m     numeric_value = result.temperature.values[\u001b[32m56\u001b[39m]\n\u001b[32m      7\u001b[39m     day1[i] = numeric_value\n",
      "\u001b[31mNameError\u001b[39m: name 'read_icon_fixed_point_and_time' is not defined"
     ]
    }
   ],
   "source": [
    "day1 = np.zeros(12)\n",
    "day2 = np.zeros(12)\n",
    "\n",
    "for i, j in enumerate([12, 13, 14, 15, 16, 17, 18, 19, 20, 21, 22, 23]):\n",
    "    result = read_icon_fixed_point_and_time(day=15, hour=j, my_lon=11.4011756, my_lat=47.266076, variant=\"ICON\")\n",
    "    numeric_value = result.temperature.values[56]\n",
    "    day1[i] = numeric_value\n",
    "\n",
    "for i, j in enumerate([0,1,2,3,4,5,6,7,8,9,10,11]):\n",
    "    result = read_icon_fixed_point_and_time(day=16, hour=j, my_lon=11.4011756, my_lat=47.266076, variant=\"ICON\")\n",
    "    numeric_value = result.temperature.values[56]\n",
    "    day2[i] = numeric_value\n"
   ]
  },
  {
   "cell_type": "code",
   "execution_count": 11,
   "id": "76909381",
   "metadata": {},
   "outputs": [],
   "source": [
    "day1 = np.array(day1)\n",
    "day2 = np.array(day2)\n",
    "icon_seg = np.concatenate([day1, day2])"
   ]
  },
  {
   "cell_type": "markdown",
   "id": "cf8998cb-b058-4d62-b4fe-b79b778976fd",
   "metadata": {},
   "source": [
    "datetime_range = pd.date_range(start='2017-10-15 12:00', end='2017-10-16 11:00', freq='h')\n",
    "plt.plot(datetime_range, icon_seg)"
   ]
  },
  {
   "cell_type": "code",
   "execution_count": null,
   "id": "09e616a3",
   "metadata": {},
   "outputs": [],
   "source": []
  },
  {
   "cell_type": "markdown",
   "id": "24c6cb11",
   "metadata": {},
   "source": [
    "# ICON2TE"
   ]
  },
  {
   "cell_type": "code",
   "execution_count": 12,
   "id": "8beac109",
   "metadata": {},
   "outputs": [
    {
     "ename": "NameError",
     "evalue": "name 'read_icon_fixed_point_and_time' is not defined",
     "output_type": "error",
     "traceback": [
      "\u001b[31m---------------------------------------------------------------------------\u001b[39m",
      "\u001b[31mNameError\u001b[39m                                 Traceback (most recent call last)",
      "\u001b[36mCell\u001b[39m\u001b[36m \u001b[39m\u001b[32mIn[12]\u001b[39m\u001b[32m, line 5\u001b[39m\n\u001b[32m      2\u001b[39m day2 = np.zeros(\u001b[32m12\u001b[39m)\n\u001b[32m      4\u001b[39m \u001b[38;5;28;01mfor\u001b[39;00m i, j \u001b[38;5;129;01min\u001b[39;00m \u001b[38;5;28menumerate\u001b[39m([\u001b[32m12\u001b[39m, \u001b[32m13\u001b[39m, \u001b[32m14\u001b[39m, \u001b[32m15\u001b[39m, \u001b[32m16\u001b[39m, \u001b[32m17\u001b[39m, \u001b[32m18\u001b[39m, \u001b[32m19\u001b[39m, \u001b[32m20\u001b[39m, \u001b[32m21\u001b[39m, \u001b[32m22\u001b[39m, \u001b[32m23\u001b[39m]):\n\u001b[32m----> \u001b[39m\u001b[32m5\u001b[39m     result = \u001b[43mread_icon_fixed_point_and_time\u001b[49m(day=\u001b[32m15\u001b[39m, hour=j, my_lon=\u001b[32m11.4011756\u001b[39m, my_lat=\u001b[32m47.266076\u001b[39m, variant=\u001b[33m\"\u001b[39m\u001b[33mICON2TE\u001b[39m\u001b[33m\"\u001b[39m)\n\u001b[32m      6\u001b[39m     numeric_value = result.temperature.values[\u001b[32m56\u001b[39m]\n\u001b[32m      7\u001b[39m     day1[i] = numeric_value\n",
      "\u001b[31mNameError\u001b[39m: name 'read_icon_fixed_point_and_time' is not defined"
     ]
    }
   ],
   "source": [
    "day1 = np.zeros(12)\n",
    "day2 = np.zeros(12)\n",
    "\n",
    "for i, j in enumerate([12, 13, 14, 15, 16, 17, 18, 19, 20, 21, 22, 23]):\n",
    "    result = read_icon_fixed_point_and_time(day=15, hour=j, my_lon=11.4011756, my_lat=47.266076, variant=\"ICON2TE\")\n",
    "    numeric_value = result.temperature.values[56]\n",
    "    day1[i] = numeric_value\n",
    "\n",
    "for i, j in enumerate([0, 1, 2, 3, 4, 5, 6, 7, 8, 9, 10, 11]):\n",
    "    result = read_icon_fixed_point_and_time(day=16, hour=j, my_lon=11.4011756, my_lat=47.266076, variant=\"ICON2TE\")\n",
    "    numeric_value = result.temperature.values[56]\n",
    "    day2[i] = numeric_value\n"
   ]
  },
  {
   "cell_type": "code",
   "execution_count": 13,
   "id": "6a89356a",
   "metadata": {},
   "outputs": [],
   "source": [
    "day1 = np.array(day1)\n",
    "day2 = np.array(day2)\n",
    "icon2TE_seg = np.concatenate([day1, day2])"
   ]
  },
  {
   "cell_type": "markdown",
   "id": "eb41764d-4568-4c1d-a17d-5e578afef41e",
   "metadata": {},
   "source": [
    "datetime_range = pd.date_range(start='2017-10-15 12:00', end='2017-10-16 11:00', freq='H')\n",
    "plt.plot(datetime_range, icon2TE_seg)"
   ]
  },
  {
   "cell_type": "code",
   "execution_count": null,
   "id": "79535212",
   "metadata": {},
   "outputs": [],
   "source": []
  },
  {
   "cell_type": "code",
   "execution_count": null,
   "id": "f607641a-258f-4ca9-88d3-cfa584462563",
   "metadata": {},
   "outputs": [],
   "source": []
  }
 ],
 "metadata": {
  "kernelspec": {
   "display_name": "Python 3 (ipykernel)",
   "language": "python",
   "name": "python3"
  },
  "language_info": {
   "codemirror_mode": {
    "name": "ipython",
    "version": 3
   },
   "file_extension": ".py",
   "mimetype": "text/x-python",
   "name": "python",
   "nbconvert_exporter": "python",
   "pygments_lexer": "ipython3",
   "version": "3.11.11"
  }
 },
 "nbformat": 4,
 "nbformat_minor": 5
}
